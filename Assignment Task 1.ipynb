{
 "cells": [
  {
   "cell_type": "code",
   "execution_count": 1,
   "id": "656af3f9-3c84-4dff-bd92-5d65f4e2bc88",
   "metadata": {},
   "outputs": [],
   "source": [
    "# Assignment "
   ]
  },
  {
   "cell_type": "code",
   "execution_count": 2,
   "id": "c6bc8be0-6141-4cb8-ad6b-81e26e0c3aa5",
   "metadata": {},
   "outputs": [
    {
     "data": {
      "text/plain": [
       "' 1. Create a function which will take a list as an argument and return the product of all the numbers \\nafter creating a flat list.\\n\\nUse the below-given list as an argument for your function.\\nlist1 = [1,2,3,4, [44,55,66, True], False, (34,56,78,89,34), {1,2,3,3,2,1}, {1:34, \"key2\": [55, 67, 78, 89], 4: (45, \\n22, 61, 34)}, [56, \\'data science\\'], \\'Machine Learning\\']\\n\\nNote: you must extract numeric keys and values of the dictionary also.'"
      ]
     },
     "execution_count": 2,
     "metadata": {},
     "output_type": "execute_result"
    }
   ],
   "source": [
    "\"\"\" 1. Create a function which will take a list as an argument and return the product of all the numbers \n",
    "after creating a flat list.\n",
    "\n",
    "Use the below-given list as an argument for your function.\n",
    "list1 = [1,2,3,4, [44,55,66, True], False, (34,56,78,89,34), {1,2,3,3,2,1}, {1:34, \"key2\": [55, 67, 78, 89], 4: (45, \n",
    "22, 61, 34)}, [56, 'data science'], 'Machine Learning']\n",
    "\n",
    "Note: you must extract numeric keys and values of the dictionary also.\"\"\""
   ]
  },
  {
   "cell_type": "code",
   "execution_count": 27,
   "id": "29c55163-7f59-41e1-b42d-9dfe928ca037",
   "metadata": {},
   "outputs": [
    {
     "name": "stdout",
     "output_type": "stream",
     "text": [
      "[1, 2, 3, 4, 44, 55, 66, 34, 56, 78, 89, 34, 1, 2, 3, 1, 4, 34, 55, 67, 78, 89, 45, 22, 61, 34, 56]\n"
     ]
    }
   ],
   "source": [
    "from functools import reduce\n",
    "def product(lst):\n",
    "    flatList=[]\n",
    "    for i in lst:\n",
    "        if type(i)==list or type(i)==tuple or type(i)==set:\n",
    "            for j in i:\n",
    "                if type(j)==int:\n",
    "                    flatList.append(j)\n",
    "        elif type(i)==dict:\n",
    "            for a in i.keys():\n",
    "                if type(a)==int:\n",
    "                    flatList.append(a)\n",
    "            for b in i.values():\n",
    "                if type(b)==int:\n",
    "                    flatList.append(b)\n",
    "                if type(b)==list or type(b)==tuple:\n",
    "                    for c in b:\n",
    "                        if type(c)==int:\n",
    "                            flatList.append(c)\n",
    "        else:\n",
    "            if type(i)==int:\n",
    "                flatList.append(i)\n",
    "    return flatList\n",
    "list1 = [1,2,3,4, [44,55,66, True], False, (34,56,78,89,34), {1,2,3,3,2,1}, {1:34, \"key2\": [55, 67, 78, 89], 4: (45, 22, 61, 34)}, [56, 'data science'], 'Machine Learning']\n",
    "a=print(product(list1))"
   ]
  },
  {
   "cell_type": "code",
   "execution_count": 30,
   "id": "a5fbfa8f-16a9-4c3d-95fb-105974b3c582",
   "metadata": {},
   "outputs": [],
   "source": [
    "a=product(list1)"
   ]
  },
  {
   "cell_type": "code",
   "execution_count": 31,
   "id": "399a07fe-1f63-4822-a4f8-8792bc4e02a8",
   "metadata": {},
   "outputs": [
    {
     "name": "stdout",
     "output_type": "stream",
     "text": [
      "[1, 2, 3, 4, 44, 55, 66, 34, 56, 78, 89, 34, 1, 2, 3, 1, 4, 34, 55, 67, 78, 89, 45, 22, 61, 34, 56]\n"
     ]
    }
   ],
   "source": [
    "print(a)"
   ]
  },
  {
   "cell_type": "code",
   "execution_count": 32,
   "id": "78cd3f63-ac6e-4db3-b2ae-dab3759d23e5",
   "metadata": {},
   "outputs": [
    {
     "name": "stdout",
     "output_type": "stream",
     "text": [
      "4134711838987085478833841242112000\n"
     ]
    }
   ],
   "source": [
    "import functools \n",
    "def remove_duplicates(nums):\n",
    "    result = functools.reduce(lambda x, y: x * y, a, 1)\n",
    "    return result \n",
    "print(remove_duplicates(a))"
   ]
  },
  {
   "cell_type": "code",
   "execution_count": 33,
   "id": "749b353e-203d-4a6c-a8f8-0bfcd36cf763",
   "metadata": {},
   "outputs": [
    {
     "data": {
      "text/plain": [
       "' 2. Write a python program for encrypting a message sent to you by your friend. The logic of encryption \\nshould be such that, for a the output should be z. For b, the output should be y. For c, the output should \\nbe x respectively. Also, the whitespace should be replaced with a dollar sign. Keep the punctuation \\nmarks unchanged.\\n\\nInput Sentence: I want to become a Data Scientist.\\n\\nEncrypt the above input sentence using the program you just created.\\n\\nNote: Convert the given input sentence into lowercase before encrypting. The final output should be \\nlowercase.'"
      ]
     },
     "execution_count": 33,
     "metadata": {},
     "output_type": "execute_result"
    }
   ],
   "source": [
    "\"\"\" 2. Write a python program for encrypting a message sent to you by your friend. The logic of encryption \n",
    "should be such that, for a the output should be z. For b, the output should be y. For c, the output should \n",
    "be x respectively. Also, the whitespace should be replaced with a dollar sign. Keep the punctuation \n",
    "marks unchanged.\n",
    "\n",
    "Input Sentence: I want to become a Data Scientist.\n",
    "\n",
    "Encrypt the above input sentence using the program you just created.\n",
    "\n",
    "Note: Convert the given input sentence into lowercase before encrypting. The final output should be \n",
    "lowercase.\"\"\""
   ]
  },
  {
   "cell_type": "code",
   "execution_count": 19,
   "id": "885b9dc2-31c8-4236-ba4d-d5a7369d2c4c",
   "metadata": {},
   "outputs": [
    {
     "name": "stdout",
     "output_type": "stream",
     "text": [
      "I want to become a Data Scientist.\n",
      "R wzmg gl yvxlnv z wzgz hxrvmgrhg.\n"
     ]
    }
   ],
   "source": [
    "string=\"I want to become a Data Scientist.\"\n",
    "print(string)\n",
    "to_remov={\"a\":\"Z\",\"b\":\"Y\",\"c\":\"X\" ,\"d\":\"W\",\"e\":\"V\",\"f\":\"U\",\"g\":\"T\" ,\"h\":\"S\", \"i\":\"R\",\"j\":\"Q\",\"k\":\"P\",\"l\":\"O\",\"m\":\"N\",\"n\":\"M\",\"o\":\"L\",\"p\":\"K\",\"q\":\"J\" ,\"r\":\"I\",\"s\":\"H\",\"t\":\"G\",\"u\":\"F\",\"v\":\"E\",\"w\":\"D\",\"z\":\"C\",\"y\":\"B\",\"x\":\"A\",\"I\":\"R\",\"D\":\"W\",\"S\":\"H\"}\n",
    "for char in to_remov.keys():\n",
    "        string= string.replace(char,to_remov[char])\n",
    "print(string.capitalize())\n",
    "    "
   ]
  }
 ],
 "metadata": {
  "kernelspec": {
   "display_name": "Python 3 (ipykernel)",
   "language": "python",
   "name": "python3"
  },
  "language_info": {
   "codemirror_mode": {
    "name": "ipython",
    "version": 3
   },
   "file_extension": ".py",
   "mimetype": "text/x-python",
   "name": "python",
   "nbconvert_exporter": "python",
   "pygments_lexer": "ipython3",
   "version": "3.10.8"
  }
 },
 "nbformat": 4,
 "nbformat_minor": 5
}
