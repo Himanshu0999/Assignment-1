{
 "cells": [
  {
   "cell_type": "code",
   "execution_count": 17,
   "id": "22c7f2e1-ea6d-4b1b-a910-63ed17406a96",
   "metadata": {},
   "outputs": [],
   "source": [
    "# Assignment "
   ]
  },
  {
   "cell_type": "code",
   "execution_count": 18,
   "id": "01f06352-b29a-4252-a2e3-4dad55c41504",
   "metadata": {},
   "outputs": [],
   "source": [
    "# 1. Explain with an example each when to use a for loop and a while loop."
   ]
  },
  {
   "cell_type": "code",
   "execution_count": 19,
   "id": "10a3fded-46a8-41b2-86cf-8f2d82b62b6a",
   "metadata": {},
   "outputs": [
    {
     "name": "stdout",
     "output_type": "stream",
     "text": [
      "Python has two primitive loop commands:\n",
      "1.while loops\n",
      "2.for loops\n",
      "****The while Loop****\n",
      "With the while loop we can execute a set of statements as long as a condition is true.\n",
      "Example\n",
      "Print i as long as i is less than 6:\n",
      "i = 1\n",
      "while i < 6:\n",
      "  print(i)\n",
      "  i += 1\n",
      "****Python For Loops****\n",
      "A for loop is used for iterating over a sequence (that is either a list, a tuple, a dictionary, a set, or a string).\n",
      "With the for loop we can execute a set of statements, once for each item in a list, tuple, set etc.\n",
      "Example\n",
      "Print each fruit in a fruit list:\n",
      "fruits = [\"apple\", \"banana\", \"cherry\"]\n",
      "for x in fruits:\n",
      "  print(x)\n"
     ]
    }
   ],
   "source": [
    "print(\"\"\"Python has two primitive loop commands:\n",
    "1.while loops\n",
    "2.for loops\n",
    "****The while Loop****\n",
    "With the while loop we can execute a set of statements as long as a condition is true.\n",
    "Example\n",
    "Print i as long as i is less than 6:\n",
    "i = 1\n",
    "while i < 6:\n",
    "  print(i)\n",
    "  i += 1\n",
    "****Python For Loops****\n",
    "A for loop is used for iterating over a sequence (that is either a list, a tuple, a dictionary, a set, or a string).\n",
    "With the for loop we can execute a set of statements, once for each item in a list, tuple, set etc.\n",
    "Example\n",
    "Print each fruit in a fruit list:\n",
    "fruits = [\"apple\", \"banana\", \"cherry\"]\n",
    "for x in fruits:\n",
    "  print(x)\"\"\")"
   ]
  },
  {
   "cell_type": "code",
   "execution_count": 20,
   "id": "8ceb005e-cd80-4f61-99e7-559a3fa06193",
   "metadata": {},
   "outputs": [
    {
     "data": {
      "text/plain": [
       "' 2. Write a python program to print the sum and product of the first 10 natural numbers using for \\nand while loop.'"
      ]
     },
     "execution_count": 20,
     "metadata": {},
     "output_type": "execute_result"
    }
   ],
   "source": [
    "\"\"\" 2. Write a python program to print the sum and product of the first 10 natural numbers using for \n",
    "and while loop.\"\"\""
   ]
  },
  {
   "cell_type": "code",
   "execution_count": 21,
   "id": "b850d441-26ea-4b07-9288-b8439d3002f3",
   "metadata": {},
   "outputs": [
    {
     "name": "stdout",
     "output_type": "stream",
     "text": [
      "Sum of first  10 numbers are: 55\n",
      "product of first  10 natural number are: 3628800\n"
     ]
    }
   ],
   "source": [
    "#for loop\n",
    "n = 10\n",
    "sum = 0\n",
    "product=1\n",
    "for num in range(1, n + 1, 1):\n",
    "    sum = sum + num \n",
    "    product = product * num \n",
    "print(\"Sum of first \", n, \"numbers are:\",sum)\n",
    "print(\"product of first \",n,\"natural number are:\", product)"
   ]
  },
  {
   "cell_type": "code",
   "execution_count": 22,
   "id": "ed2952f9-7a80-41b6-b8d1-7d1c3db690f2",
   "metadata": {},
   "outputs": [
    {
     "name": "stdout",
     "output_type": "stream",
     "text": [
      "The sum is 10\n",
      "The sum is 19\n",
      "The sum is 27\n",
      "The sum is 34\n",
      "The sum is 40\n",
      "The sum is 45\n",
      "The sum is 49\n",
      "The sum is 52\n",
      "The sum is 54\n",
      "The sum is 55\n"
     ]
    }
   ],
   "source": [
    "#while loop\n",
    "num=10\n",
    "sum=0\n",
    "while(num > 0):\n",
    "    sum = sum + num\n",
    "    num = num - 1\n",
    "    print(\"The sum is\", sum)"
   ]
  },
  {
   "cell_type": "code",
   "execution_count": 23,
   "id": "7d5ccba5-309d-4ea5-bed7-62b594204d6e",
   "metadata": {},
   "outputs": [
    {
     "data": {
      "text/plain": [
       "' 3. Create a python program to compute the electricity bill for a household.\\nThe per-unit charges in rupees are as follows: For the first 100 units, the user will be charged Rs. 4.5 per \\nunit, for the next 100 units, the user will be charged Rs. 6 per unit, and for the next 100 units, the user will \\nbe charged Rs. 10 per unit, After 300 units and above the user will be charged Rs. 20 per unit.\\nYou are required to take the units of electricity consumed in a month from the user as input.\\nYour program must pass this test case: when the unit of electricity consumed by the user in a month is \\n310, the total electricity bill should be 2250.'"
      ]
     },
     "execution_count": 23,
     "metadata": {},
     "output_type": "execute_result"
    }
   ],
   "source": [
    "\"\"\" 3. Create a python program to compute the electricity bill for a household.\n",
    "The per-unit charges in rupees are as follows: For the first 100 units, the user will be charged Rs. 4.5 per \n",
    "unit, for the next 100 units, the user will be charged Rs. 6 per unit, and for the next 100 units, the user will \n",
    "be charged Rs. 10 per unit, After 300 units and above the user will be charged Rs. 20 per unit.\n",
    "You are required to take the units of electricity consumed in a month from the user as input.\n",
    "Your program must pass this test case: when the unit of electricity consumed by the user in a month is \n",
    "310, the total electricity bill should be 2250.\"\"\""
   ]
  },
  {
   "cell_type": "code",
   "execution_count": 24,
   "id": "1c89c9f7-eb05-4e18-a794-2f1d315e7869",
   "metadata": {},
   "outputs": [
    {
     "name": "stdin",
     "output_type": "stream",
     "text": [
      "Enter the units are: 310\n"
     ]
    },
    {
     "name": "stdout",
     "output_type": "stream",
     "text": [
      "The Total electricity bill are :  2250.0\n"
     ]
    }
   ],
   "source": [
    "units=int(input(\"Enter the units are:\"))\n",
    "if (units<=100):\n",
    "    amount=units*4.5 \n",
    "elif (100>units and units<=200):\n",
    "    amount=((100*4.5)+(units-100)*6)\n",
    "elif (200>units and units<=300):\n",
    "    amount=(100*4.5)+(200-100)*6+(units-200)*10\n",
    "elif (300>units and units<=350):\n",
    "    amount=(100*4.5)+(200-100)*6+(300-200)*10+(unit-300)*20\n",
    "else:\n",
    "    amount=(100*4.5)+(200-100)*6+(300-200)*10+(units-300)*20\n",
    "total=amount\n",
    "print(\"The Total electricity bill are : \",total)"
   ]
  },
  {
   "cell_type": "code",
   "execution_count": 25,
   "id": "68628cbb-7cde-4a7c-95fb-69edd3532aea",
   "metadata": {},
   "outputs": [
    {
     "data": {
      "text/plain": [
       "' 4. Create a list of numbers from 1 to 100. Use for loop and while loop to calculate the cube of each \\nnumber and if the cube of that number is divisible by 4 or 5 then append that number in a list and print \\nthat list.'"
      ]
     },
     "execution_count": 25,
     "metadata": {},
     "output_type": "execute_result"
    }
   ],
   "source": [
    "\"\"\" 4. Create a list of numbers from 1 to 100. Use for loop and while loop to calculate the cube of each \n",
    "number and if the cube of that number is divisible by 4 or 5 then append that number in a list and print \n",
    "that list.\"\"\""
   ]
  },
  {
   "cell_type": "code",
   "execution_count": 23,
   "id": "05185ecb-2e64-4bcf-8251-7fd024118e65",
   "metadata": {},
   "outputs": [
    {
     "name": "stdout",
     "output_type": "stream",
     "text": [
      "[]\n",
      "[8]\n",
      "[8]\n",
      "[8, 64]\n",
      "[8, 64, 125]\n",
      "[8, 64, 125, 216]\n",
      "[8, 64, 125, 216]\n",
      "[8, 64, 125, 216, 512]\n",
      "[8, 64, 125, 216, 512]\n"
     ]
    }
   ],
   "source": [
    "l=[]\n",
    "for i in range(1,10):\n",
    "    a= i*i*i\n",
    "    l.append(a)\n",
    "    b=list(filter(lambda a : a % 4 == 0 or a % 5 ==0,l))\n",
    "    print(b)\n",
    "    \n",
    "       "
   ]
  },
  {
   "cell_type": "code",
   "execution_count": 27,
   "id": "091ab9cd-cd0a-4650-88b7-981af06fdc63",
   "metadata": {},
   "outputs": [
    {
     "data": {
      "text/plain": [
       "'5. Write a program to filter count vowels in the below-given string.\\n\\nstring = \"I want to become a data scientist'"
      ]
     },
     "execution_count": 27,
     "metadata": {},
     "output_type": "execute_result"
    }
   ],
   "source": [
    "\"\"\"5. Write a program to filter count vowels in the below-given string.\n",
    "\n",
    "string = \"I want to become a data scientist\"\"\""
   ]
  },
  {
   "cell_type": "code",
   "execution_count": 28,
   "id": "efc612b6-abd2-41d1-be3b-56cef6988f1f",
   "metadata": {},
   "outputs": [
    {
     "name": "stdout",
     "output_type": "stream",
     "text": [
      "Number of vowels in the given string is:  12\n"
     ]
    }
   ],
   "source": [
    "count = 0\n",
    "string = \"I want to become a data scientist\"\n",
    "string = string.casefold()\n",
    "i = 0\n",
    "for i in range(len(string)):\n",
    "    if (\n",
    "        (string[i] == \"a\")\n",
    "        or (string[i] == \"e\")\n",
    "        or (string[i] == \"i\")\n",
    "        or (string[i] == \"o\")\n",
    "        or (string[i] == \"u\")\n",
    "    ):\n",
    "        count += 1\n",
    "print(\"Number of vowels in the given string is: \", count)\n",
    " "
   ]
  }
 ],
 "metadata": {
  "kernelspec": {
   "display_name": "Python 3 (ipykernel)",
   "language": "python",
   "name": "python3"
  },
  "language_info": {
   "codemirror_mode": {
    "name": "ipython",
    "version": 3
   },
   "file_extension": ".py",
   "mimetype": "text/x-python",
   "name": "python",
   "nbconvert_exporter": "python",
   "pygments_lexer": "ipython3",
   "version": "3.10.8"
  }
 },
 "nbformat": 4,
 "nbformat_minor": 5
}
