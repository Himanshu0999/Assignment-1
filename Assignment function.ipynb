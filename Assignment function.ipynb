{
 "cells": [
  {
   "cell_type": "code",
   "execution_count": 2,
   "id": "fb573ea6-c6ad-490d-89de-de1bb44033e8",
   "metadata": {},
   "outputs": [],
   "source": [
    "# Assignment "
   ]
  },
  {
   "cell_type": "code",
   "execution_count": 3,
   "id": "9ec4c79d-2432-4171-8276-2bbdf5a24428",
   "metadata": {},
   "outputs": [
    {
     "data": {
      "text/plain": [
       "\"1. Create a python program to sort the given list of tuples based on integer value using a \\nlambda function. \\n\\n[('Sachin Tendulkar', 34357), ('Ricky Ponting', 27483), ('Jack Kallis', 25534), ('Virat Kohli', 24936)]\""
      ]
     },
     "execution_count": 3,
     "metadata": {},
     "output_type": "execute_result"
    }
   ],
   "source": [
    "\"\"\"1. Create a python program to sort the given list of tuples based on integer value using a \n",
    "lambda function. \n",
    "\n",
    "[('Sachin Tendulkar', 34357), ('Ricky Ponting', 27483), ('Jack Kallis', 25534), ('Virat Kohli', 24936)]\"\"\""
   ]
  },
  {
   "cell_type": "code",
   "execution_count": 4,
   "id": "24b4711b-1e39-4c9e-9753-c16be0df1ad9",
   "metadata": {},
   "outputs": [
    {
     "name": "stdout",
     "output_type": "stream",
     "text": [
      "Original list of tuples:\n",
      "[('Sachin Tendulkar', 34357), ('Ricky Ponting', 27483), ('Jack Kallis', 25534), ('Virat Kohli', 24936)]\n",
      "\n",
      "Sorting the List of Tuples:\n",
      "[('Virat Kohli', 24936), ('Jack Kallis', 25534), ('Ricky Ponting', 27483), ('Sachin Tendulkar', 34357)]\n"
     ]
    }
   ],
   "source": [
    "s=[('Sachin Tendulkar', 34357), ('Ricky Ponting', 27483), ('Jack Kallis', 25534), ('Virat Kohli', 24936)]\n",
    "print(\"Original list of tuples:\")\n",
    "print(s)\n",
    "s.sort(key = lambda x: x[1])\n",
    "print(\"\\nSorting the List of Tuples:\")\n",
    "print(s)"
   ]
  },
  {
   "cell_type": "code",
   "execution_count": 5,
   "id": "41452235-3c65-43a3-949f-10d15f03e352",
   "metadata": {},
   "outputs": [
    {
     "data": {
      "text/plain": [
       "'2. Write a Python Program to find the squares of all the numbers in the given list of integers using \\nlambda and map functions.\\n\\n[1, 2, 3, 4, 5, 6, 7, 8, 9, 10]'"
      ]
     },
     "execution_count": 5,
     "metadata": {},
     "output_type": "execute_result"
    }
   ],
   "source": [
    "\"\"\"2. Write a Python Program to find the squares of all the numbers in the given list of integers using \n",
    "lambda and map functions.\n",
    "\n",
    "[1, 2, 3, 4, 5, 6, 7, 8, 9, 10]\"\"\""
   ]
  },
  {
   "cell_type": "code",
   "execution_count": 6,
   "id": "2c2de4d5-7a3d-4107-8d04-95e4b17bd0b5",
   "metadata": {},
   "outputs": [
    {
     "name": "stdout",
     "output_type": "stream",
     "text": [
      "Original list of integers:\n",
      "[1, 2, 3, 4, 5, 6, 7, 8, 9, 10]\n",
      "\n",
      "Square every number of the said list:\n",
      "[1, 4, 9, 16, 25, 36, 49, 64, 81, 100]\n"
     ]
    }
   ],
   "source": [
    "l1=[1, 2, 3, 4, 5, 6, 7, 8, 9, 10]\n",
    " \n",
    "print(\"Original list of integers:\")\n",
    "print(l1)\n",
    "print(\"\\nSquare every number of the said list:\")\n",
    "square_nums = list(map(lambda x: x ** 2, l1))\n",
    "print(square_nums)"
   ]
  },
  {
   "cell_type": "code",
   "execution_count": 7,
   "id": "268362c2-fe8d-45ec-b3b8-21fa87e7932d",
   "metadata": {},
   "outputs": [
    {
     "data": {
      "text/plain": [
       "\"3.Write a python program to convert the given list of integers into a tuple of strings. Use map and \\nlambda functions\\n\\nGiven String: [1, 2, 3, 4, 5, 6, 7, 8, 9, 10]\\n\\nExpected output: ('1', '2', '3', '4', '5', '6', '7', '8', '9', '10')\""
      ]
     },
     "execution_count": 7,
     "metadata": {},
     "output_type": "execute_result"
    }
   ],
   "source": [
    "\"\"\"3.Write a python program to convert the given list of integers into a tuple of strings. Use map and \n",
    "lambda functions\n",
    "\n",
    "Given String: [1, 2, 3, 4, 5, 6, 7, 8, 9, 10]\n",
    "\n",
    "Expected output: ('1', '2', '3', '4', '5', '6', '7', '8', '9', '10')\"\"\""
   ]
  },
  {
   "cell_type": "code",
   "execution_count": 8,
   "id": "2fabd4c2-519e-4289-b9ed-f3d94116d5d4",
   "metadata": {},
   "outputs": [
    {
     "name": "stdout",
     "output_type": "stream",
     "text": [
      "Original list :\n",
      "[1, 2, 3, 4, 5, 6, 7, 8, 9, 10]\n",
      "\n",
      "Tuple of strings:\n",
      "('1', '2', '3', '4', '5', '6', '7', '8', '9', '10')\n"
     ]
    }
   ],
   "source": [
    "l2=[1, 2, 3, 4, 5, 6, 7, 8, 9, 10]\n",
    "print(\"Original list :\")\n",
    "print(l2)\n",
    "string = tuple(map(str,l2))\n",
    "print(\"\\nTuple of strings:\")\n",
    "print(string)\n"
   ]
  },
  {
   "cell_type": "code",
   "execution_count": 9,
   "id": "294d4122-a807-4df3-a0f8-b4c878f2e3d9",
   "metadata": {},
   "outputs": [
    {
     "data": {
      "text/plain": [
       "'4.Write a python program using reduce function to compute the product of a list containing numbers \\nfrom 1 to 25.'"
      ]
     },
     "execution_count": 9,
     "metadata": {},
     "output_type": "execute_result"
    }
   ],
   "source": [
    "\"\"\"4.Write a python program using reduce function to compute the product of a list containing numbers \n",
    "from 1 to 25.\"\"\""
   ]
  },
  {
   "cell_type": "code",
   "execution_count": 6,
   "id": "89fc35b3-19dc-439f-a05f-d8b3deaef7ae",
   "metadata": {},
   "outputs": [
    {
     "name": "stdout",
     "output_type": "stream",
     "text": [
      "15511210043330985984000000\n"
     ]
    }
   ],
   "source": [
    "from functools import reduce\n",
    "list1=[1,2,3,4,5,6,7,8,9,10,11,12,13,14,15,16,17,18,19,20,21,22,23,24,25]\n",
    "result=reduce((lambda x, y: x * y), list1)\n",
    "print(result)"
   ]
  },
  {
   "cell_type": "code",
   "execution_count": 21,
   "id": "72539267-f5aa-4db8-b2e8-a97dba18f494",
   "metadata": {},
   "outputs": [
    {
     "data": {
      "text/plain": [
       "' 5. Write a python program to filter the numbers in a given list that are divisible by 2 and 3 using the \\nfilter function.\\n\\n[2, 3, 6, 9, 27, 60, 90, 120, 55, 46]'"
      ]
     },
     "execution_count": 21,
     "metadata": {},
     "output_type": "execute_result"
    }
   ],
   "source": [
    "\"\"\" 5. Write a python program to filter the numbers in a given list that are divisible by 2 and 3 using the \n",
    "filter function.\n",
    "\n",
    "[2, 3, 6, 9, 27, 60, 90, 120, 55, 46]\"\"\""
   ]
  },
  {
   "cell_type": "code",
   "execution_count": 86,
   "id": "03cba7c9-21bd-4319-8230-31f2efc89748",
   "metadata": {},
   "outputs": [],
   "source": [
    "def num ():\n",
    "    lst= [2, 3, 6, 9, 27, 60, 90, 120, 55, 46]\n",
    "    for i in lst:\n",
    "        if i % 2 == 0  and i%3==0:\n",
    "            pass\n",
    "        else:\n",
    "            print(i, end=\" \")\n",
    " "
   ]
  },
  {
   "cell_type": "code",
   "execution_count": 87,
   "id": "97175c56-f6c9-4392-b51c-ce0e63a98fb6",
   "metadata": {},
   "outputs": [
    {
     "name": "stdout",
     "output_type": "stream",
     "text": [
      "2 3 9 27 55 46 "
     ]
    }
   ],
   "source": [
    "num()"
   ]
  },
  {
   "cell_type": "code",
   "execution_count": 80,
   "id": "ad1cfe23-4200-49b5-8a51-6d0bba180a10",
   "metadata": {},
   "outputs": [
    {
     "data": {
      "text/plain": [
       "\" 6. Write a python program to find palindromes in the given list of strings using lambda and filter \\nfunction.\\n\\n['python', 'php', 'aba', 'radar', 'level']\""
      ]
     },
     "execution_count": 80,
     "metadata": {},
     "output_type": "execute_result"
    }
   ],
   "source": [
    "\"\"\" 6. Write a python program to find palindromes in the given list of strings using lambda and filter \n",
    "function.\n",
    "\n",
    "['python', 'php', 'aba', 'radar', 'level']\"\"\""
   ]
  },
  {
   "cell_type": "code",
   "execution_count": 81,
   "id": "d77a5f27-e0bd-41e1-9108-ed1b8f335c7d",
   "metadata": {},
   "outputs": [
    {
     "name": "stdout",
     "output_type": "stream",
     "text": [
      "Orginal list of strings:\n",
      "['python', 'php', 'aba', 'radar', 'level']\n",
      "\n",
      "List of palindromes:\n",
      "['php', 'aba', 'radar', 'level']\n"
     ]
    }
   ],
   "source": [
    "texts=['python', 'php', 'aba', 'radar', 'level']\n",
    "print(\"Orginal list of strings:\")\n",
    "print(texts) \n",
    "result = list(filter(lambda x: (x == \"\".join(reversed(x))), texts)) \n",
    "print(\"\\nList of palindromes:\")\n",
    "print(result)"
   ]
  }
 ],
 "metadata": {
  "kernelspec": {
   "display_name": "Python 3 (ipykernel)",
   "language": "python",
   "name": "python3"
  },
  "language_info": {
   "codemirror_mode": {
    "name": "ipython",
    "version": 3
   },
   "file_extension": ".py",
   "mimetype": "text/x-python",
   "name": "python",
   "nbconvert_exporter": "python",
   "pygments_lexer": "ipython3",
   "version": "3.10.8"
  }
 },
 "nbformat": 4,
 "nbformat_minor": 5
}
