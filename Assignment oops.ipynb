{
 "cells": [
  {
   "cell_type": "code",
   "execution_count": 14,
   "id": "efa7c0f8-f229-4950-84c9-22084c670148",
   "metadata": {},
   "outputs": [],
   "source": [
    "# Assignment "
   ]
  },
  {
   "cell_type": "code",
   "execution_count": 15,
   "id": "f8c893a3-3f7b-4688-a40e-4e3a1a91954d",
   "metadata": {},
   "outputs": [],
   "source": [
    "# 1. Explain Class and Object with respect to Object-Oriented Programming. Give a suitable example."
   ]
  },
  {
   "cell_type": "code",
   "execution_count": 16,
   "id": "7cb470cb-fd06-4d42-a132-7c0964a3cdae",
   "metadata": {},
   "outputs": [
    {
     "name": "stdout",
     "output_type": "stream",
     "text": [
      "Python Classes/Objects\n",
      "Python is an object oriented programming language.\n",
      "Almost everything in Python is an object, with its properties and methods.\n",
      "A Class is like an object constructor, or a \"blueprint\" for creating objects.\n",
      "Create a Class\n",
      "To create a class, use the keyword class:\n",
      "Example:-\n",
      "Create a class named MyClass, with a property named x:\n",
      "class MyClass:\n",
      "  x = 5\n",
      "Create Object\n",
      "Now we can use the class named MyClass to create objects:\n",
      "Example:-\n",
      "Create an object named p1, and print the value of x:\n",
      "p1 = MyClass()\n",
      "print(p1.x)\n",
      "\n"
     ]
    }
   ],
   "source": [
    "print(\"\"\"Python Classes/Objects\n",
    "Python is an object oriented programming language.\n",
    "Almost everything in Python is an object, with its properties and methods.\n",
    "A Class is like an object constructor, or a \"blueprint\" for creating objects.\n",
    "Create a Class\n",
    "To create a class, use the keyword class:\n",
    "Example:-\n",
    "Create a class named MyClass, with a property named x:\n",
    "class MyClass:\n",
    "  x = 5\n",
    "Create Object\n",
    "Now we can use the class named MyClass to create objects:\n",
    "Example:-\n",
    "Create an object named p1, and print the value of x:\n",
    "p1 = MyClass()\n",
    "print(p1.x)\n",
    "\"\"\")"
   ]
  },
  {
   "cell_type": "code",
   "execution_count": 17,
   "id": "0c8aa24c-5572-4730-a3bb-afc3f818e4a1",
   "metadata": {},
   "outputs": [],
   "source": [
    "# 2. Name the four pillars of OOPs."
   ]
  },
  {
   "cell_type": "code",
   "execution_count": 18,
   "id": "d304fdad-24fe-4d09-937b-0e2856e3960f",
   "metadata": {},
   "outputs": [
    {
     "name": "stdout",
     "output_type": "stream",
     "text": [
      "There are four Pillars of Object Oriented Programming:\n",
      "1.Abstraction\n",
      "2.Encapsulation\n",
      "3.Inheritance\n",
      "4Polymorphism\n",
      "Inheritance:\n",
      "The property of acquiring all the properties and behaviors of the parent object by an object is termed as inheritance in OOPs. This is a unique feature in object oriented programming languages which facilitates reusability of the code of the parent class by the derived class.\n",
      "Polymorphism:\n",
      "OOPs is based on the principle of Polymorphism, which means, that one task can be performed in many ways.\n",
      "Encapsulation:\n",
      "OOPs restrict direct access to its methods and variables by encapsulating the code and data together.\n",
      "Data Abstraction\n",
      "OOPS Data Abstraction feature is used for hiding internal details and showing the functionality only.\n"
     ]
    }
   ],
   "source": [
    "print(\"\"\"There are four Pillars of Object Oriented Programming:\n",
    "1.Abstraction\n",
    "2.Encapsulation\n",
    "3.Inheritance\n",
    "4Polymorphism\n",
    "Inheritance:\n",
    "The property of acquiring all the properties and behaviors of the parent object by an object is termed as inheritance in OOPs. This is a unique feature in object oriented programming languages which facilitates reusability of the code of the parent class by the derived class.\n",
    "Polymorphism:\n",
    "OOPs is based on the principle of Polymorphism, which means, that one task can be performed in many ways.\n",
    "Encapsulation:\n",
    "OOPs restrict direct access to its methods and variables by encapsulating the code and data together.\n",
    "Data Abstraction\n",
    "OOPS Data Abstraction feature is used for hiding internal details and showing the functionality only.\"\"\")"
   ]
  },
  {
   "cell_type": "code",
   "execution_count": 19,
   "id": "0ae67718-f33f-405e-9d7d-57178f9273a1",
   "metadata": {},
   "outputs": [],
   "source": [
    "# 3. Explain why the __init__() function is used. Give a suitable example."
   ]
  },
  {
   "cell_type": "code",
   "execution_count": 20,
   "id": "f8f2fb00-6ad8-4b58-818f-8af5d88f94cc",
   "metadata": {},
   "outputs": [
    {
     "name": "stdout",
     "output_type": "stream",
     "text": [
      "\n",
      "The __init__() Function\n",
      "The examples above are classes and objects in their simplest form, and are not really useful in real life applications.\n",
      "To understand the meaning of classes we have to understand the built-in __init__() function.\n",
      "All classes have a function called __init__(), which is always executed when the class is being initiated.\n",
      "Use the __init__() function to assign values to object properties, or other operations that are necessary to do when the object is being created:\n",
      "Example:-\n",
      "Create a class named Person, use the __init__() function to assign values for name and age:\n",
      "class Person:\n",
      "  def __init__(self, name, age):\n",
      "    self.name = name\n",
      "    self.age = age\n",
      "p1 = Person(\"John\", 36)\n",
      "print(p1.name)\n",
      "print(p1.age)\n"
     ]
    }
   ],
   "source": [
    "print(\"\"\"\n",
    "The __init__() Function\n",
    "The examples above are classes and objects in their simplest form, and are not really useful in real life applications.\n",
    "To understand the meaning of classes we have to understand the built-in __init__() function.\n",
    "All classes have a function called __init__(), which is always executed when the class is being initiated.\n",
    "Use the __init__() function to assign values to object properties, or other operations that are necessary to do when the object is being created:\n",
    "Example:-\n",
    "Create a class named Person, use the __init__() function to assign values for name and age:\n",
    "class Person:\n",
    "  def __init__(self, name, age):\n",
    "    self.name = name\n",
    "    self.age = age\n",
    "p1 = Person(\"John\", 36)\n",
    "print(p1.name)\n",
    "print(p1.age)\"\"\")"
   ]
  },
  {
   "cell_type": "code",
   "execution_count": 21,
   "id": "e1c2be52-0e66-4aa5-afa8-807dbe4f0c16",
   "metadata": {},
   "outputs": [],
   "source": [
    "# 4. Why self is used in OOPs?"
   ]
  },
  {
   "cell_type": "code",
   "execution_count": 22,
   "id": "afdec521-2eec-4a97-bdbc-283357ce6776",
   "metadata": {},
   "outputs": [
    {
     "name": "stdout",
     "output_type": "stream",
     "text": [
      "self represents the instance of the class. By using the “self”  we can access the attributes and methods of the class in python. It binds the attributes with the given arguments.\n",
      "The reason you need to use self. is because Python does not use the @ syntax to refer to instance attributes. Python decided to do methods in a way that makes the instance to which the method belongs be passed automatically, but not received automatically: the first parameter of methods is the instance the method is called on.\n"
     ]
    }
   ],
   "source": [
    "print(\"\"\"self represents the instance of the class. By using the “self”  we can access the attributes and methods of the class in python. It binds the attributes with the given arguments.\n",
    "The reason you need to use self. is because Python does not use the @ syntax to refer to instance attributes. Python decided to do methods in a way that makes the instance to which the method belongs be passed automatically, but not received automatically: the first parameter of methods is the instance the method is called on.\"\"\")"
   ]
  },
  {
   "cell_type": "code",
   "execution_count": 23,
   "id": "f52d7cb6-fa97-4f4b-bc1b-de5867894ac4",
   "metadata": {},
   "outputs": [],
   "source": [
    "# 5. What is inheritance? Give an example for each type of inheritance."
   ]
  },
  {
   "cell_type": "code",
   "execution_count": 24,
   "id": "31ebdae1-1c88-4cf3-be97-55bb9d7b98f5",
   "metadata": {},
   "outputs": [
    {
     "name": "stdout",
     "output_type": "stream",
     "text": [
      "Inheritance allows us to define a class that inherits all the methods and properties from another class. Parent class is the class being inherited from, also called base class. Child class is the class that inherits from another class, also called derived class.\n",
      "Types of Inheritance depend upon the number of child and parent classes involved. There are four types of inheritance in Python:\n",
      "Single Inheritance: \n",
      "Single inheritance enables a derived class to inherit properties from a single parent class, thus enabling code reusability and the addition of new features to existing code.\n",
      "example:-\n",
      "class Parent1:  \n",
      "    def func_1(self):  \n",
      "        print (\"This function is defined inside the parent class.\")  \n",
      "  \n",
      "class Child1(Parent1):  \n",
      "    def func_2(self):  \n",
      "        print (\"This function is defined inside the child class.\")  \n",
      " \n",
      "object = Child1()  \n",
      "object.func_1()  \n",
      "object.func_2()  \n",
      "Multiple Inheritance: \n",
      "When a class can be derived from more than one base class this type of inheritance is called multiple inheritances. In multiple inheritances, all the features of the base classes are inherited into the derived class.\n",
      "example:-\n",
      "class Mother1:  \n",
      "    mothername1 = \"\"  \n",
      "    def mother1(self):  \n",
      "        print(self.mothername1)  \n",
      "class Father1:  \n",
      "    fathername1 = \"\"  \n",
      "    def father1(self):  \n",
      "        print(self.fathername1)  \n",
      "  \n",
      "class Son1(Mother1, Father1):  \n",
      "    def parents1(self):  \n",
      "        print (\"Father name is :\", self.fathername1)  \n",
      "        print (\"Mother name is :\", self.mothername1)  \n",
      "  \n",
      "s1 = Son1()  \n",
      "s1.fathername1 = \"Rajesh\"  \n",
      "s1.mothername1 = \"Shreya\"  \n",
      "s1.parents1()  \n",
      "Multilevel Inheritance :\n",
      "In multilevel inheritance, features of the base class and the derived class are further inherited into the new derived class. This is similar to a relationship representing a child and a grandfather.\n",
      "example:-\n",
      "class Grandfather1:  \n",
      "  \n",
      "    def __init__(self, grandfathername1):  \n",
      "        self.grandfathername1 = grandfathername1  \n",
      "  \n",
      "  \n",
      "class Father1(Grandfather1):  \n",
      "    def __init__(self, fathername1, grandfathername1):  \n",
      "        self.fathername1 = fathername1  \n",
      "  \n",
      "        Grandfather1.__init__(self, grandfathername1)  \n",
      "  \n",
      "class Son1(Father1):  \n",
      "    def __init__(self,sonname1, fathername1, grandfathername1):  \n",
      "        self.sonname1 = sonname1  \n",
      "  \n",
      "        Father1.__init__(self, fathername1, grandfathername1)  \n",
      "  \n",
      "    def print_name(self):  \n",
      "        print('Grandfather name is :', self.grandfathername1)  \n",
      "        print(\"Father name is :\", self.fathername1)  \n",
      "        print(\"Son name is :\", self.sonname1)  \n",
      " \n",
      "s1 = Son1('John', 'John Jr', 'John Jr Jr')  \n",
      "print (s1.grandfathername1)  \n",
      "s1.print_name()  \n",
      "Hierarchical Inheritance: \n",
      "When more than one derived class are created from a single base this type of inheritance is called hierarchical inheritance. In this program, we have a parent (base) class and two child (derived) classes.\n",
      "example:-\n",
      "class Parent1:  \n",
      "    def func_1(self):  \n",
      "        print (\"This function is defined inside the parent class.\")   \n",
      "class Child_1(Parent1):  \n",
      "    def func_2(self):  \n",
      "        print (\"This function is defined inside the child 1.\")     \n",
      "class Child_2(Parent1):  \n",
      "    def func_3(self):  \n",
      "        print (\"This function is defined inside the child 2.\")  \n",
      "    \n",
      "object1 = Child_1()  \n",
      "object2 = Child_2()  \n",
      "object1.func_1()  \n",
      "object1.func_2()  \n",
      "object2.func_1()  \n",
      "object2.func_3()  \n",
      "Hybrid Inheritance: \n",
      "Inheritance consisting of multiple types of inheritance is called hybrid inheritance.\n"
     ]
    }
   ],
   "source": [
    "print(\"\"\"Inheritance allows us to define a class that inherits all the methods and properties from another class. Parent class is the class being inherited from, also called base class. Child class is the class that inherits from another class, also called derived class.\n",
    "Types of Inheritance depend upon the number of child and parent classes involved. There are four types of inheritance in Python:\n",
    "Single Inheritance: \n",
    "Single inheritance enables a derived class to inherit properties from a single parent class, thus enabling code reusability and the addition of new features to existing code.\n",
    "example:-\n",
    "class Parent1:  \n",
    "    def func_1(self):  \n",
    "        print (\"This function is defined inside the parent class.\")  \n",
    "  \n",
    "class Child1(Parent1):  \n",
    "    def func_2(self):  \n",
    "        print (\"This function is defined inside the child class.\")  \n",
    " \n",
    "object = Child1()  \n",
    "object.func_1()  \n",
    "object.func_2()  \n",
    "Multiple Inheritance: \n",
    "When a class can be derived from more than one base class this type of inheritance is called multiple inheritances. In multiple inheritances, all the features of the base classes are inherited into the derived class.\n",
    "example:-\n",
    "class Mother1:  \n",
    "    mothername1 = \"\"  \n",
    "    def mother1(self):  \n",
    "        print(self.mothername1)  \n",
    "class Father1:  \n",
    "    fathername1 = \"\"  \n",
    "    def father1(self):  \n",
    "        print(self.fathername1)  \n",
    "  \n",
    "class Son1(Mother1, Father1):  \n",
    "    def parents1(self):  \n",
    "        print (\"Father name is :\", self.fathername1)  \n",
    "        print (\"Mother name is :\", self.mothername1)  \n",
    "  \n",
    "s1 = Son1()  \n",
    "s1.fathername1 = \"Rajesh\"  \n",
    "s1.mothername1 = \"Shreya\"  \n",
    "s1.parents1()  \n",
    "Multilevel Inheritance :\n",
    "In multilevel inheritance, features of the base class and the derived class are further inherited into the new derived class. This is similar to a relationship representing a child and a grandfather.\n",
    "example:-\n",
    "class Grandfather1:  \n",
    "  \n",
    "    def __init__(self, grandfathername1):  \n",
    "        self.grandfathername1 = grandfathername1  \n",
    "  \n",
    "  \n",
    "class Father1(Grandfather1):  \n",
    "    def __init__(self, fathername1, grandfathername1):  \n",
    "        self.fathername1 = fathername1  \n",
    "  \n",
    "        Grandfather1.__init__(self, grandfathername1)  \n",
    "  \n",
    "class Son1(Father1):  \n",
    "    def __init__(self,sonname1, fathername1, grandfathername1):  \n",
    "        self.sonname1 = sonname1  \n",
    "  \n",
    "        Father1.__init__(self, fathername1, grandfathername1)  \n",
    "  \n",
    "    def print_name(self):  \n",
    "        print('Grandfather name is :', self.grandfathername1)  \n",
    "        print(\"Father name is :\", self.fathername1)  \n",
    "        print(\"Son name is :\", self.sonname1)  \n",
    " \n",
    "s1 = Son1('John', 'John Jr', 'John Jr Jr')  \n",
    "print (s1.grandfathername1)  \n",
    "s1.print_name()  \n",
    "Hierarchical Inheritance: \n",
    "When more than one derived class are created from a single base this type of inheritance is called hierarchical inheritance. In this program, we have a parent (base) class and two child (derived) classes.\n",
    "example:-\n",
    "class Parent1:  \n",
    "    def func_1(self):  \n",
    "        print (\"This function is defined inside the parent class.\")   \n",
    "class Child_1(Parent1):  \n",
    "    def func_2(self):  \n",
    "        print (\"This function is defined inside the child 1.\")     \n",
    "class Child_2(Parent1):  \n",
    "    def func_3(self):  \n",
    "        print (\"This function is defined inside the child 2.\")  \n",
    "    \n",
    "object1 = Child_1()  \n",
    "object2 = Child_2()  \n",
    "object1.func_1()  \n",
    "object1.func_2()  \n",
    "object2.func_1()  \n",
    "object2.func_3()  \n",
    "Hybrid Inheritance: \n",
    "Inheritance consisting of multiple types of inheritance is called hybrid inheritance.\"\"\")"
   ]
  },
  {
   "cell_type": "code",
   "execution_count": null,
   "id": "6734641e-9bfc-4fcb-ab78-48f60568baee",
   "metadata": {},
   "outputs": [],
   "source": []
  }
 ],
 "metadata": {
  "kernelspec": {
   "display_name": "Python 3 (ipykernel)",
   "language": "python",
   "name": "python3"
  },
  "language_info": {
   "codemirror_mode": {
    "name": "ipython",
    "version": 3
   },
   "file_extension": ".py",
   "mimetype": "text/x-python",
   "name": "python",
   "nbconvert_exporter": "python",
   "pygments_lexer": "ipython3",
   "version": "3.10.8"
  }
 },
 "nbformat": 4,
 "nbformat_minor": 5
}
