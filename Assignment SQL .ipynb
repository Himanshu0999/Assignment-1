{
 "cells": [
  {
   "cell_type": "code",
   "execution_count": 7,
   "id": "591ef25e-545d-4e15-b6ab-fe0e6bf4cd6a",
   "metadata": {},
   "outputs": [],
   "source": [
    "#Assignment"
   ]
  },
  {
   "cell_type": "code",
   "execution_count": 8,
   "id": "e88a4b71-6693-4d32-bb4a-06831af7e8cb",
   "metadata": {},
   "outputs": [],
   "source": [
    "#1. What is a database? Differentiate between SQL and NoSQL databases."
   ]
  },
  {
   "cell_type": "code",
   "execution_count": 9,
   "id": "00df1d35-da7a-4908-9ca6-067d6ee8d812",
   "metadata": {},
   "outputs": [
    {
     "name": "stdout",
     "output_type": "stream",
     "text": [
      "A database is an organized collection of structured information, or data, typically stored electronically in a computer system. A database is usually controlled by a database management system (DBMS). Together, the data and the DBMS, along with the applications that are associated with them, are referred to as a database system, often shortened to just database.\n",
      "Difference SQL and NoSql\n",
      "1.SQL pronounced as “S-Q-L” or as “See-Quel” is primarily called RDBMS or Relational Databases, whereas NoSQL is a Non-relational or Distributed Database.\n",
      "2.Comparing SQL vs NoSQL databases, SQL databases are table-based databases, whereas NoSQL databases can be document-based, key-value pairs, and graph databases.\n",
      "3.SQL databases are vertically scalable, while NoSQL databases are horizontally scalable.\n",
      "SQL databases have a predefined schema, whereas NoSQL databases use a dynamic schema for unstructured data.\n",
      "4.Comparing NoSQL vs SQL performance, SQL requires specialized DB hardware for better performance while NoSQL uses commodity hardware.\n"
     ]
    }
   ],
   "source": [
    "print(\"\"\"A database is an organized collection of structured information, or data, typically stored electronically in a computer system. A database is usually controlled by a database management system (DBMS). Together, the data and the DBMS, along with the applications that are associated with them, are referred to as a database system, often shortened to just database.\n",
    "Difference SQL and NoSql\n",
    "1.SQL pronounced as “S-Q-L” or as “See-Quel” is primarily called RDBMS or Relational Databases, whereas NoSQL is a Non-relational or Distributed Database.\n",
    "2.Comparing SQL vs NoSQL databases, SQL databases are table-based databases, whereas NoSQL databases can be document-based, key-value pairs, and graph databases.\n",
    "3.SQL databases are vertically scalable, while NoSQL databases are horizontally scalable.\n",
    "SQL databases have a predefined schema, whereas NoSQL databases use a dynamic schema for unstructured data.\n",
    "4.Comparing NoSQL vs SQL performance, SQL requires specialized DB hardware for better performance while NoSQL uses commodity hardware.\"\"\")"
   ]
  },
  {
   "cell_type": "code",
   "execution_count": 10,
   "id": "ac34b9be-02da-49b4-8228-e032f43ef481",
   "metadata": {},
   "outputs": [],
   "source": [
    "#2. What is DDL? Explain why CREATE, DROP, ALTER, and TRUNCATE are used with an example."
   ]
  },
  {
   "cell_type": "code",
   "execution_count": 11,
   "id": "526c7145-418a-480b-aa30-2f566b12bc03",
   "metadata": {},
   "outputs": [
    {
     "name": "stdout",
     "output_type": "stream",
     "text": [
      "DDL (Data Definition Language): \n",
      "DDL or Data Definition Language actually consists of the SQL commands that can be used to define the database schema. It simply deals with descriptions of the database schema and is used to create and modify the structure of database objects in the database. DDL is a set of SQL commands used to create, modify, and delete database structures but not data. These commands are normally not used by a general user, who should be accessing the database via an application.\n",
      "DDL commands: \n",
      "1.CREATE: This command is used to create the database or its objects (like table, index, function, views, store procedure, and triggers).\n",
      "Example:-CREATE TABLE Sudent_data;\n",
      "(\n",
      "Sub_ID INT, \n",
      "Sub_Name varchar(20)\n",
      ");\n",
      "Here INT and varchar are datatype, Datatype means type of data we can store, like for INT type, \n",
      "we can store integer type data in the column\n",
      "2.DROP: This command is used to delete objects from the database.\n",
      "Example:-DROP DATABASE student_data;\n",
      "3.ALTER: This is used to alter the structure of the database.\n",
      "Example:-ALTER TABLE Student_data ADD Father's_Name Varchar(60);  \n",
      "4.TRUNCATE: This is used to remove all records from a table, including all spaces allocated for the records are removed \n",
      "Example:- TRUNCATE TABLE Student_data; .\n"
     ]
    }
   ],
   "source": [
    "print (\"\"\"DDL (Data Definition Language): \n",
    "DDL or Data Definition Language actually consists of the SQL commands that can be used to define the database schema. It simply deals with descriptions of the database schema and is used to create and modify the structure of database objects in the database. DDL is a set of SQL commands used to create, modify, and delete database structures but not data. These commands are normally not used by a general user, who should be accessing the database via an application.\n",
    "DDL commands: \n",
    "1.CREATE: This command is used to create the database or its objects (like table, index, function, views, store procedure, and triggers).\n",
    "Example:-CREATE TABLE Sudent_data;\n",
    "(\n",
    "Sub_ID INT, \n",
    "Sub_Name varchar(20)\n",
    ");\n",
    "Here INT and varchar are datatype, Datatype means type of data we can store, like for INT type, \n",
    "we can store integer type data in the column\n",
    "2.DROP: This command is used to delete objects from the database.\n",
    "Example:-DROP DATABASE student_data;\n",
    "3.ALTER: This is used to alter the structure of the database.\n",
    "Example:-ALTER TABLE Student_data ADD Father's_Name Varchar(60);  \n",
    "4.TRUNCATE: This is used to remove all records from a table, including all spaces allocated for the records are removed \n",
    "Example:- TRUNCATE TABLE Student_data; .\"\"\")"
   ]
  },
  {
   "cell_type": "code",
   "execution_count": 12,
   "id": "86f9d77e-b178-4a5c-ac7e-0dfd94823b60",
   "metadata": {},
   "outputs": [],
   "source": [
    "#3. What is DML? Explain INSERT, UPDATE, and DELETE with an example."
   ]
  },
  {
   "cell_type": "code",
   "execution_count": 13,
   "id": "75764246-d43f-4e31-833d-261c50bc3887",
   "metadata": {},
   "outputs": [
    {
     "name": "stdout",
     "output_type": "stream",
     "text": [
      "DML Commands in SQL\n",
      "DML is an abbreviation of Data Manipulation Language.\n",
      "The DML commands in Structured Query Language change the data present in the SQL database. We can easily access, store, modify, update and delete the existing records from the database using DML commands.\n",
      "Following are the three main DML commands in SQL:\n",
      "1.INSERT Command\n",
      "2.UPDATE Command\n",
      "3.DELETE Command\n",
      "(I) INSERT DML Command\n",
      "INSERT is another most important data manipulation command in Structured Query Language, which allows users to insert data in database tables.\n",
      "Syntax of INSERT Command:-\n",
      "INSERT INTO TABLE_NAME ( column_Name1 , column_Name2 , column_Name3 , .... column_NameN )  VALUES (value_1, value_2, value_3, .... value_N ) ;   \n",
      "Examples :-\n",
      "INSERT INTO Student (Stu_id, Stu_Name, Stu_Marks, Stu_Age) VALUES (104, Anmol, 89, 19);  \n",
      "(ii) UPDATE DML Command\n",
      "UPDATE is another most important data manipulation command in Structured Query Language, which allows users to update or modify the existing data in database tables.\n",
      "Syntax of UPDATE Command:-\n",
      "UPDATE Table_name SET [column_name1= value_1, ….., column_nameN = value_N] WHERE CONDITION;  \n",
      "Example:-UPDATE Product SET Product_Price = 80 WHERE Product_Id = 'P102' ;  \n",
      "(iii) DELETE DML Command\n",
      "DELETE is a DML command which allows SQL users to remove single or multiple existing records from the database tables.\n",
      "This command of Data Manipulation Language does not delete the stored data permanently from the database. We use the WHERE clause with the DELETE command to select specific rows from the table.\n",
      "Syntax of DELETE Command:-\n",
      "DELETE FROM Table_Name WHERE condition;  \n",
      "Example:-\n",
      "DELETE FROM Product WHERE Product_Id = 'P202' ;\n",
      "\n"
     ]
    }
   ],
   "source": [
    "print(\"\"\"DML Commands in SQL\n",
    "DML is an abbreviation of Data Manipulation Language.\n",
    "The DML commands in Structured Query Language change the data present in the SQL database. We can easily access, store, modify, update and delete the existing records from the database using DML commands.\n",
    "Following are the three main DML commands in SQL:\n",
    "1.INSERT Command\n",
    "2.UPDATE Command\n",
    "3.DELETE Command\n",
    "(I) INSERT DML Command\n",
    "INSERT is another most important data manipulation command in Structured Query Language, which allows users to insert data in database tables.\n",
    "Syntax of INSERT Command:-\n",
    "INSERT INTO TABLE_NAME ( column_Name1 , column_Name2 , column_Name3 , .... column_NameN )  VALUES (value_1, value_2, value_3, .... value_N ) ;   \n",
    "Examples :-\n",
    "INSERT INTO Student (Stu_id, Stu_Name, Stu_Marks, Stu_Age) VALUES (104, Anmol, 89, 19);  \n",
    "(ii) UPDATE DML Command\n",
    "UPDATE is another most important data manipulation command in Structured Query Language, which allows users to update or modify the existing data in database tables.\n",
    "Syntax of UPDATE Command:-\n",
    "UPDATE Table_name SET [column_name1= value_1, ….., column_nameN = value_N] WHERE CONDITION;  \n",
    "Example:-UPDATE Product SET Product_Price = 80 WHERE Product_Id = 'P102' ;  \n",
    "(iii) DELETE DML Command\n",
    "DELETE is a DML command which allows SQL users to remove single or multiple existing records from the database tables.\n",
    "This command of Data Manipulation Language does not delete the stored data permanently from the database. We use the WHERE clause with the DELETE command to select specific rows from the table.\n",
    "Syntax of DELETE Command:-\n",
    "DELETE FROM Table_Name WHERE condition;  \n",
    "Example:-\n",
    "DELETE FROM Product WHERE Product_Id = 'P202' ;\n",
    "\"\"\")"
   ]
  },
  {
   "cell_type": "code",
   "execution_count": 14,
   "id": "b6cc87ba-8483-4892-ba8b-63069b0af104",
   "metadata": {},
   "outputs": [],
   "source": [
    "#4. What is DQL? Explain SELECT with an example."
   ]
  },
  {
   "cell_type": "code",
   "execution_count": 15,
   "id": "e86755ea-4c2f-4739-845b-673f5609122c",
   "metadata": {},
   "outputs": [
    {
     "name": "stdout",
     "output_type": "stream",
     "text": [
      "Structured query language (SQL) is a programming language for storing and processing information in a relational database. A relational database stores information in tabular form, with rows and columns representing different data attributes and the various relationships between the data values.\n",
      "The SELECT statement is used to select data from a database.\n",
      "Example:- SELECT * FROM table_name;\n",
      "Example:-SELECT Column Example\n",
      "The following SQL statement selects the \"CustomerName\" and \"City\" columns from the \"Customers\" table:\n",
      "The SQL SELECT Statement\n",
      "The SELECT statement is used to select data from a database.\n",
      "The data returned is stored in a result table, called the result-set.\n",
      "SELECT Syntax:-\n",
      "SELECT column1, column2, ...\n",
      "FROM table_name;\n",
      "Example:-SELECT CustomerName, City FROM Customers;\n"
     ]
    }
   ],
   "source": [
    "print(\"\"\"Structured query language (SQL) is a programming language for storing and processing information in a relational database. A relational database stores information in tabular form, with rows and columns representing different data attributes and the various relationships between the data values.\n",
    "The SELECT statement is used to select data from a database.\n",
    "Example:- SELECT * FROM table_name;\n",
    "Example:-SELECT Column Example\n",
    "The following SQL statement selects the \"CustomerName\" and \"City\" columns from the \"Customers\" table:\n",
    "The SQL SELECT Statement\n",
    "The SELECT statement is used to select data from a database.\n",
    "The data returned is stored in a result table, called the result-set.\n",
    "SELECT Syntax:-\n",
    "SELECT column1, column2, ...\n",
    "FROM table_name;\n",
    "Example:-SELECT CustomerName, City FROM Customers;\"\"\")\n"
   ]
  },
  {
   "cell_type": "code",
   "execution_count": 16,
   "id": "462700cd-261e-4143-b529-5644a86a4a1f",
   "metadata": {},
   "outputs": [],
   "source": [
    "#5. Explain Primary Key and Foreign Key."
   ]
  },
  {
   "cell_type": "code",
   "execution_count": 17,
   "id": "42049921-bb7a-4327-898e-7414206654a1",
   "metadata": {},
   "outputs": [
    {
     "name": "stdout",
     "output_type": "stream",
     "text": [
      "Primary Key: A primary key is used to ensure that data in the specific column is unique. A column cannot have NULL values. It is either an existing table column or a column that is specifically generated by the database according to a defined sequence. \n",
      "Example:– \n",
      "STUD_NO, as well as STUD_PHONE both, are candidate keys for relation STUDENT but STUD_NO can be chosen as the primary key (only one out of many candidate keys). \n",
      "Foreign Key: \n",
      "A foreign key is a column or group of columns in a relational database table that provides a link between data in two tables. It is a column (or columns) that references a column (most often the primary key) of another table. \n",
      "Example:- \n",
      "STUD_NO in STUDENT_COURSE is a foreign key to STUD_NO in STUDENT relation. \n"
     ]
    }
   ],
   "source": [
    "print(\"\"\"Primary Key: A primary key is used to ensure that data in the specific column is unique. A column cannot have NULL values. It is either an existing table column or a column that is specifically generated by the database according to a defined sequence. \n",
    "Example:– \n",
    "STUD_NO, as well as STUD_PHONE both, are candidate keys for relation STUDENT but STUD_NO can be chosen as the primary key (only one out of many candidate keys). \n",
    "Foreign Key: \n",
    "A foreign key is a column or group of columns in a relational database table that provides a link between data in two tables. It is a column (or columns) that references a column (most often the primary key) of another table. \n",
    "Example:- \n",
    "STUD_NO in STUDENT_COURSE is a foreign key to STUD_NO in STUDENT relation. \"\"\")"
   ]
  },
  {
   "cell_type": "code",
   "execution_count": 18,
   "id": "6d1b2a16-4d04-4d3f-b721-393f85588e57",
   "metadata": {},
   "outputs": [],
   "source": [
    "#6. Write a python code to connect MySQL to python. Explain the cursor() and execute() method."
   ]
  },
  {
   "cell_type": "code",
   "execution_count": 19,
   "id": "98702500-bf0f-4446-8f65-5ebe8af7ec25",
   "metadata": {},
   "outputs": [
    {
     "name": "stdout",
     "output_type": "stream",
     "text": [
      "import mysql.connector\n",
      "mydb = mysql.connector.connect(\n",
      "  host=\"localhost\",\n",
      "  user=\"yourusername\",\n",
      "  password=\"yourpassword\"\n",
      ")\n",
      "mycursor = mydb.cursor()\n",
      "mycursor.execute(\"CREATE DATABASE mydatabase\")\n",
      "Cursor ( )\n",
      "Cursor is a Temporary Memory or Temporary Work Station. It is Allocated by Database Server at the Time of Performing DML(Data Manipulation Language) operations on Table by User. Cursors are used to store Database Tables. There are 2 types of Cursors: Implicit Cursors, and Explicit Cursors. These are explained as following below.\n",
      "1.Implicit Cursors:\n",
      "Implicit Cursors are also known as Default Cursors of SQL SERVER. These Cursors are allocated by SQL SERVER when the user performs DML operations.\n",
      "2.Explicit Cursors :\n",
      "Explicit Cursors are Created by Users whenever the user requires them. Explicit Cursors are used for Fetching data from Table in Row-By-Row Manner.\n",
      "Execute ( )\n",
      "The Execute method executes a specified query, SQL statement, stored procedure, or provider-specific text. The results are stored in a new Recordset object if it is a row-returning query. A closed Recordset object will be returned if it is not a row-returning query.\n"
     ]
    }
   ],
   "source": [
    "print(\"\"\"import mysql.connector\n",
    "mydb = mysql.connector.connect(\n",
    "  host=\"localhost\",\n",
    "  user=\"yourusername\",\n",
    "  password=\"yourpassword\"\n",
    ")\n",
    "mycursor = mydb.cursor()\n",
    "mycursor.execute(\"CREATE DATABASE mydatabase\")\n",
    "Cursor ( )\n",
    "Cursor is a Temporary Memory or Temporary Work Station. It is Allocated by Database Server at the Time of Performing DML(Data Manipulation Language) operations on Table by User. Cursors are used to store Database Tables. There are 2 types of Cursors: Implicit Cursors, and Explicit Cursors. These are explained as following below.\n",
    "1.Implicit Cursors:\n",
    "Implicit Cursors are also known as Default Cursors of SQL SERVER. These Cursors are allocated by SQL SERVER when the user performs DML operations.\n",
    "2.Explicit Cursors :\n",
    "Explicit Cursors are Created by Users whenever the user requires them. Explicit Cursors are used for Fetching data from Table in Row-By-Row Manner.\n",
    "Execute ( )\n",
    "The Execute method executes a specified query, SQL statement, stored procedure, or provider-specific text. The results are stored in a new Recordset object if it is a row-returning query. A closed Recordset object will be returned if it is not a row-returning query.\"\"\")"
   ]
  },
  {
   "cell_type": "code",
   "execution_count": 20,
   "id": "384bafb0-1257-4c48-9a87-af48b53347c3",
   "metadata": {},
   "outputs": [],
   "source": [
    "#7 Give the order of execution of SQL clauses in an SQL query."
   ]
  },
  {
   "cell_type": "code",
   "execution_count": 21,
   "id": "94eeca31-2613-4910-b5b0-d66db6f60e62",
   "metadata": {},
   "outputs": [
    {
     "name": "stdout",
     "output_type": "stream",
     "text": [
      "Let’s take a look at a sample SQL query :\n",
      "SELECT DISTINCT column, AGGREGATE(column)\n",
      "FROM table1\n",
      "JOIN table2\n",
      "ON table1.column = table2.column\n",
      "WHERE constraint_expression\n",
      "GROUP BY column\n",
      "HAVING constraint_expression\n",
      "ORDER BY column ASC/DESC\n",
      "LIMIT count;\n",
      "Each part of the query is executed sequentially, so it’s important to understand the order of execution :\n",
      "FROM and JOIN: The FROM clause, and subsequent JOINs are first executed to determine the total working set of data that is being queried\n",
      "WHERE: Once we have the total working set of data, the WHERE constraints are applied to the individual rows, and rows that do not satisfy the constraint are discarded.\n",
      "GROUP BY: The remaining rows after the WHERE constraints are applied are then grouped based on common values in the column specified in the GROUP BY clause.\n",
      "HAVING: If the query has a GROUP BY clause, then the constraints in the HAVING clause are applied to the grouped rows, and the grouped rows that don’t satisfy the constraint are discarded.\n",
      "SELECT: Any expressions in the SELECT part of the query are finally computed.\n",
      "DISTINCT: Of the remaining rows, rows with duplicate values in the column marked as DISTINCT will be discarded.\n",
      "ORDER BY: If an order is specified by the ORDER BY clause, the rows are then sorted by the specified data in either ascending or descending order.\n",
      "LIMIT: Finally, the rows that fall outside the range specified by the LIMIT are discarded, leaving the final set of rows to be returned from the query.\n"
     ]
    }
   ],
   "source": [
    "print(\"\"\"Let’s take a look at a sample SQL query :\n",
    "SELECT DISTINCT column, AGGREGATE(column)\n",
    "FROM table1\n",
    "JOIN table2\n",
    "ON table1.column = table2.column\n",
    "WHERE constraint_expression\n",
    "GROUP BY column\n",
    "HAVING constraint_expression\n",
    "ORDER BY column ASC/DESC\n",
    "LIMIT count;\n",
    "Each part of the query is executed sequentially, so it’s important to understand the order of execution :\n",
    "FROM and JOIN: The FROM clause, and subsequent JOINs are first executed to determine the total working set of data that is being queried\n",
    "WHERE: Once we have the total working set of data, the WHERE constraints are applied to the individual rows, and rows that do not satisfy the constraint are discarded.\n",
    "GROUP BY: The remaining rows after the WHERE constraints are applied are then grouped based on common values in the column specified in the GROUP BY clause.\n",
    "HAVING: If the query has a GROUP BY clause, then the constraints in the HAVING clause are applied to the grouped rows, and the grouped rows that don’t satisfy the constraint are discarded.\n",
    "SELECT: Any expressions in the SELECT part of the query are finally computed.\n",
    "DISTINCT: Of the remaining rows, rows with duplicate values in the column marked as DISTINCT will be discarded.\n",
    "ORDER BY: If an order is specified by the ORDER BY clause, the rows are then sorted by the specified data in either ascending or descending order.\n",
    "LIMIT: Finally, the rows that fall outside the range specified by the LIMIT are discarded, leaving the final set of rows to be returned from the query.\"\"\")"
   ]
  },
  {
   "cell_type": "code",
   "execution_count": null,
   "id": "13d165f1-44d3-46fd-88d4-5e7ebfbbecab",
   "metadata": {},
   "outputs": [],
   "source": []
  }
 ],
 "metadata": {
  "kernelspec": {
   "display_name": "Python 3 (ipykernel)",
   "language": "python",
   "name": "python3"
  },
  "language_info": {
   "codemirror_mode": {
    "name": "ipython",
    "version": 3
   },
   "file_extension": ".py",
   "mimetype": "text/x-python",
   "name": "python",
   "nbconvert_exporter": "python",
   "pygments_lexer": "ipython3",
   "version": "3.10.8"
  }
 },
 "nbformat": 4,
 "nbformat_minor": 5
}
