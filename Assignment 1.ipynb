{
 "cells": [
  {
   "cell_type": "code",
   "execution_count": 1,
   "id": "8502924e-6ce1-4a9c-aacc-d34647d74e3b",
   "metadata": {},
   "outputs": [],
   "source": [
    "# Assignment 1"
   ]
  },
  {
   "cell_type": "code",
   "execution_count": 2,
   "id": "b9c70010-9a7a-428d-8f90-5f288bd83d76",
   "metadata": {},
   "outputs": [],
   "source": [
    "# 1. Who developed python programming language"
   ]
  },
  {
   "cell_type": "code",
   "execution_count": 3,
   "id": "a531dc35-1041-402d-8b2c-7662f5ca1a57",
   "metadata": {
    "tags": []
   },
   "outputs": [
    {
     "name": "stdout",
     "output_type": "stream",
     "text": [
      "Python was released in February 20,1991. Python was developed by Guido Van Rossum. Python is a popular programming language.\n"
     ]
    }
   ],
   "source": [
    "print(\"Python was released in February 20,1991. Python was developed by Guido Van Rossum. Python is a popular programming language.\")"
   ]
  },
  {
   "cell_type": "code",
   "execution_count": 4,
   "id": "bb6b98a8-1d31-4f46-9b7c-4522b493cf11",
   "metadata": {},
   "outputs": [],
   "source": [
    "# 2. Which type of programming does Python support?"
   ]
  },
  {
   "cell_type": "code",
   "execution_count": 5,
   "id": "a4f8132e-8b85-4ae0-8fad-69304dedbbf6",
   "metadata": {
    "tags": []
   },
   "outputs": [
    {
     "name": "stdout",
     "output_type": "stream",
     "text": [
      "Python is an interpreted programming language, supporting object-oriented, structured, and functional programming.\n"
     ]
    }
   ],
   "source": [
    "print(\"Python is an interpreted programming language, supporting object-oriented, structured, and functional programming.\")"
   ]
  },
  {
   "cell_type": "code",
   "execution_count": 6,
   "id": "9ebb5f02-eb59-4eb1-a9d7-1fcdc363a5f0",
   "metadata": {},
   "outputs": [],
   "source": [
    "# 3. Is python case sensitive when dealing with identifier"
   ]
  },
  {
   "cell_type": "code",
   "execution_count": 7,
   "id": "69f1a613-535f-4056-b52e-40f68f867ab1",
   "metadata": {},
   "outputs": [
    {
     "name": "stdout",
     "output_type": "stream",
     "text": [
      " Python is a case-sensitive language, i.e., it treats uppercase and lowercase characters differently. This applies to identifiers too. You must avoid using the same name with different cases while naming identifiers. It is always good to use names that are more easily understood. If you want to store counts of 2 values, you would rather name your variables count1 and count2 instead of naming them C and c.\n"
     ]
    }
   ],
   "source": [
    "print(\" Python is a case-sensitive language, i.e., it treats uppercase and lowercase characters differently. This applies to identifiers too. You must avoid using the same name with different cases while naming identifiers. It is always good to use names that are more easily understood. If you want to store counts of 2 values, you would rather name your variables count1 and count2 instead of naming them C and c.\")"
   ]
  },
  {
   "cell_type": "code",
   "execution_count": 8,
   "id": "9bacc0fb-053f-44cb-a973-7890405763ea",
   "metadata": {},
   "outputs": [
    {
     "name": "stdout",
     "output_type": "stream",
     "text": [
      "Reserved keywords (special words used for a specific purpose, e.g., while, for, if, etc.) cannot be used as identifier names.\n",
      "Python identifiers can contain lowercase letters (a-z), uppercase letters (A-Z), numerals (0-9), and underscores ( _ ).\n"
     ]
    }
   ],
   "source": [
    "print(\"\"\"Reserved keywords (special words used for a specific purpose, e.g., while, for, if, etc.) cannot be used as identifier names.\n",
    "Python identifiers can contain lowercase letters (a-z), uppercase letters (A-Z), numerals (0-9), and underscores ( _ ).\"\"\")"
   ]
  },
  {
   "cell_type": "code",
   "execution_count": 9,
   "id": "f2ba08d9-78de-4987-bddd-89ced0550a92",
   "metadata": {},
   "outputs": [],
   "source": [
    "# 4. What is the correct extension of the python file."
   ]
  },
  {
   "cell_type": "code",
   "execution_count": 10,
   "id": "ac46624e-15f1-4fc0-9693-6989074917e7",
   "metadata": {},
   "outputs": [
    {
     "name": "stdout",
     "output_type": "stream",
     "text": [
      "Python is a widely used programming or coding language used for different purposes. The extensions for Python files are - .py, .pyi, .pyc, .pyd, .pyo, .pyw, and .pyz.\n"
     ]
    }
   ],
   "source": [
    "print(\"Python is a widely used programming or coding language used for different purposes. The extensions for Python files are - .py, .pyi, .pyc, .pyd, .pyo, .pyw, and .pyz.\")"
   ]
  },
  {
   "cell_type": "code",
   "execution_count": 11,
   "id": "49948147-76ae-4c39-9bda-449ae4150d79",
   "metadata": {},
   "outputs": [],
   "source": [
    "# 5. Is python code compiled or interpreted."
   ]
  },
  {
   "cell_type": "code",
   "execution_count": 12,
   "id": "9b68af35-8a96-41f7-810d-efafdd657a71",
   "metadata": {},
   "outputs": [
    {
     "name": "stdout",
     "output_type": "stream",
     "text": [
      "Python is an interpreted language, which means the source code of a Python program is converted into bytecode that is then executed by the Python virtual machine. Python is different from major compiled languages, such as C and C + +, as Python code is not required to be built and linked like code for these languages.\n"
     ]
    }
   ],
   "source": [
    "print(\"Python is an interpreted language, which means the source code of a Python program is converted into bytecode that is then executed by the Python virtual machine. Python is different from major compiled languages, such as C and C + +, as Python code is not required to be built and linked like code for these languages.\")"
   ]
  },
  {
   "cell_type": "code",
   "execution_count": 13,
   "id": "2915935a-3601-4d17-ba01-ce9b3df1ffba",
   "metadata": {},
   "outputs": [],
   "source": [
    "# 6. Name a few block of code used to define in python language."
   ]
  },
  {
   "cell_type": "code",
   "execution_count": 14,
   "id": "881bea23-fe9c-445d-8132-b8bd1fb4bf71",
   "metadata": {},
   "outputs": [
    {
     "name": "stdout",
     "output_type": "stream",
     "text": [
      "A Python program is constructed from code blocks. A block is a piece of Python program text that is executed as a unit. The following are blocks: a module, a function body, and a class definition. Each command typed interactively is a block.\n"
     ]
    }
   ],
   "source": [
    "print(\"A Python program is constructed from code blocks. A block is a piece of Python program text that is executed as a unit. The following are blocks: a module, a function body, and a class definition. Each command typed interactively is a block.\")"
   ]
  },
  {
   "cell_type": "code",
   "execution_count": 15,
   "id": "b76de8c7-b40a-43b1-be1f-fbcd4fc29c96",
   "metadata": {},
   "outputs": [],
   "source": [
    "# 7. State a character used to give a single line comment in python."
   ]
  },
  {
   "cell_type": "code",
   "execution_count": 16,
   "id": "fd3fa1ec-50a2-4e5d-b71f-a1bd9175deaa",
   "metadata": {},
   "outputs": [
    {
     "name": "stdout",
     "output_type": "stream",
     "text": [
      "Hash character(#) is used to comment the line in the Python program. Comments does not have to be text to explain the code, it can also be used to prevent Python from executing code. The hash character should be placed before the line to be commented.\n"
     ]
    }
   ],
   "source": [
    "print(\"Hash character(#) is used to comment the line in the Python program. Comments does not have to be text to explain the code, it can also be used to prevent Python from executing code. The hash character should be placed before the line to be commented.\")"
   ]
  },
  {
   "cell_type": "code",
   "execution_count": 17,
   "id": "f9097769-e4bb-4a28-a6c5-b7063a21672e",
   "metadata": {},
   "outputs": [],
   "source": [
    "# 8.Mention function which can help you us to find the version of python that we are currently working on."
   ]
  },
  {
   "cell_type": "code",
   "execution_count": 18,
   "id": "baa39638-c11d-4ecb-a1be-e190822bd5cb",
   "metadata": {},
   "outputs": [
    {
     "name": "stdout",
     "output_type": "stream",
     "text": [
      "The function sys.version can help us to find the version of python that we are currently working on. For example, 3.5.2, 2.7.3 etc. this function also returns the current date, time, bits etc along with the version.\n"
     ]
    }
   ],
   "source": [
    "print(\"The function sys.version can help us to find the version of python that we are currently working on. For example, 3.5.2, 2.7.3 etc. this function also returns the current date, time, bits etc along with the version.\")"
   ]
  },
  {
   "cell_type": "code",
   "execution_count": 19,
   "id": "bb2aca94-8b08-4c06-b1dc-2b4160c4af04",
   "metadata": {},
   "outputs": [],
   "source": [
    "# 9. Python supports the creation of anonymous functions at runtime using a construct  called __________."
   ]
  },
  {
   "cell_type": "code",
   "execution_count": 20,
   "id": "e4d7d84c-7b4c-4581-8407-13376b16ac40",
   "metadata": {},
   "outputs": [
    {
     "name": "stdout",
     "output_type": "stream",
     "text": [
      "Python supports the creation of anonymous functions (i.e. functions that are not bound to a name) at runtime, using a construct called lambda. Lambda functions are restricted to a single expression. They can be used wherever normal functions can be used.\n"
     ]
    }
   ],
   "source": [
    "print(\"Python supports the creation of anonymous functions (i.e. functions that are not bound to a name) at runtime, using a construct called lambda. Lambda functions are restricted to a single expression. They can be used wherever normal functions can be used.\")"
   ]
  },
  {
   "cell_type": "code",
   "execution_count": 21,
   "id": "908a231e-4e30-4c38-9d6c-ad94f02f80bc",
   "metadata": {},
   "outputs": [],
   "source": [
    "# 10. What does PIP stand for python."
   ]
  },
  {
   "cell_type": "code",
   "execution_count": 22,
   "id": "4c658cf2-64f1-4c70-9398-cd5fd55ad0c8",
   "metadata": {},
   "outputs": [
    {
     "name": "stdout",
     "output_type": "stream",
     "text": [
      "PIP stands for Preferred Installer Program, helps you to install libraries and dependencies, that doesn’t come with the standard package of Python. So, PIP is essentially a package manager for Python.\n"
     ]
    }
   ],
   "source": [
    "print(\"PIP stands for Preferred Installer Program, helps you to install libraries and dependencies, that doesn’t come with the standard package of Python. So, PIP is essentially a package manager for Python.\")"
   ]
  },
  {
   "cell_type": "code",
   "execution_count": 23,
   "id": "1c5a1523-a772-49c6-8506-5375a2e880e3",
   "metadata": {},
   "outputs": [],
   "source": [
    "# 11. Mention a few built-in functions in python."
   ]
  },
  {
   "cell_type": "code",
   "execution_count": 24,
   "id": "7bd6625b-323c-4580-aece-f1f58a32b995",
   "metadata": {},
   "outputs": [
    {
     "name": "stdout",
     "output_type": "stream",
     "text": [
      "The Python built-in functions are defined as the functions whose functionality is pre-defined in Python. The python interpreter has several functions that are always present for use. These functions are known as Built-in Functions. There are several built-in functions in Python which are listed below:\n",
      "1.print( ) function\n",
      "2.type( ) function\n",
      "3.input( ) function\n",
      "4.abs( ) function\n",
      "5.pow( ) function\n",
      "6.dir( ) function\n",
      "7.sorted( ) function\n",
      "8.max( ) function\n",
      "9.round( ) function\n",
      "10.divmod( ) function\n",
      "11.id( ) function\n",
      "12.ord( ) function\n",
      "13.len( ) function\n",
      "14.sum( ) function\n",
      "15.help( ) function\n"
     ]
    }
   ],
   "source": [
    "print(\"\"\"The Python built-in functions are defined as the functions whose functionality is pre-defined in Python. The python interpreter has several functions that are always present for use. These functions are known as Built-in Functions. There are several built-in functions in Python which are listed below:\n",
    "1.print( ) function\n",
    "2.type( ) function\n",
    "3.input( ) function\n",
    "4.abs( ) function\n",
    "5.pow( ) function\n",
    "6.dir( ) function\n",
    "7.sorted( ) function\n",
    "8.max( ) function\n",
    "9.round( ) function\n",
    "10.divmod( ) function\n",
    "11.id( ) function\n",
    "12.ord( ) function\n",
    "13.len( ) function\n",
    "14.sum( ) function\n",
    "15.help( ) function\"\"\")"
   ]
  },
  {
   "cell_type": "code",
   "execution_count": 25,
   "id": "887d1c2d-7abf-4e04-9c7b-f1454875599f",
   "metadata": {},
   "outputs": [],
   "source": [
    "# 12. What is the maximum possible length of an identifier in python."
   ]
  },
  {
   "cell_type": "code",
   "execution_count": 26,
   "id": "355b25cf-eb64-4262-b04b-3212f88e41f0",
   "metadata": {},
   "outputs": [
    {
     "name": "stdout",
     "output_type": "stream",
     "text": [
      "An identifier can have a maximum length of 79 characters in Python. Python is one of the most popular programming languages.\n"
     ]
    }
   ],
   "source": [
    "print(\"An identifier can have a maximum length of 79 characters in Python. Python is one of the most popular programming languages.\")"
   ]
  },
  {
   "cell_type": "code",
   "execution_count": 27,
   "id": "a886363c-def2-423c-bbf5-6b9d53fe9829",
   "metadata": {},
   "outputs": [],
   "source": [
    "# 13. What are the benefits of using python."
   ]
  },
  {
   "cell_type": "code",
   "execution_count": 28,
   "id": "1dd592d2-420d-473d-9af6-e85c068a2ccd",
   "metadata": {},
   "outputs": [
    {
     "name": "stdout",
     "output_type": "stream",
     "text": [
      "Data science.\n",
      "2.Scientific and mathematical computing.\n",
      "3.Web development.\n",
      "Finance and trading.\n",
      "System automation and administration.\n",
      "Computer graphics.\n",
      "Basic game development.\n",
      "Security and penetration testing.\n"
     ]
    }
   ],
   "source": [
    "print(\"\"\"Data science.\n",
    "2.Scientific and mathematical computing.\n",
    "3.Web development.\n",
    "Finance and trading.\n",
    "System automation and administration.\n",
    "Computer graphics.\n",
    "Basic game development.\n",
    "Security and penetration testing.\"\"\")"
   ]
  },
  {
   "cell_type": "code",
   "execution_count": 29,
   "id": "3478c00a-a9c2-4e1d-b33d-ea86f86a611c",
   "metadata": {},
   "outputs": [],
   "source": [
    "# 14. How is memory managed in python"
   ]
  },
  {
   "cell_type": "code",
   "execution_count": 30,
   "id": "0a00c16c-216d-4742-8037-bcf656060a97",
   "metadata": {},
   "outputs": [
    {
     "name": "stdout",
     "output_type": "stream",
     "text": [
      "Memory management is the process by which applications read and write data. A memory manager determines where to put an application’s data. Since there’s a finite chunk of memory, like the pages in our book analogy, the manager has to find some free space and provide it to the application. This process of providing memory is generally called memory allocation.\n"
     ]
    }
   ],
   "source": [
    "print(\"Memory management is the process by which applications read and write data. A memory manager determines where to put an application’s data. Since there’s a finite chunk of memory, like the pages in our book analogy, the manager has to find some free space and provide it to the application. This process of providing memory is generally called memory allocation.\")"
   ]
  },
  {
   "cell_type": "code",
   "execution_count": 31,
   "id": "707bb737-562e-4b26-a754-af75b51a9d38",
   "metadata": {},
   "outputs": [],
   "source": [
    "# 15. How to install python on windows and set path variable."
   ]
  },
  {
   "cell_type": "code",
   "execution_count": 32,
   "id": "369d6627-0f1e-4759-ad59-ad94d3315f9b",
   "metadata": {},
   "outputs": [
    {
     "name": "stdout",
     "output_type": "stream",
     "text": [
      "The PATH variable is a list of directories where each directory contains the executable file for a command.The complete path of python.exe can be added by:\n",
      "1.Right-clicking This PC and going to Properties.\n",
      "2.Clicking on the Advanced system settings in the menu on the left.\n",
      "3.Clicking on the Environment Variables button on the bottom right.\n",
      "4.In the System variables section, selecting the Path variable and clicking on Edit. The next screen will show all the directories that are currently a part of the PATH variable.\n",
      "5.Clicking on New and entering Python’s install directory. \n"
     ]
    }
   ],
   "source": [
    "print(\"\"\"The PATH variable is a list of directories where each directory contains the executable file for a command.The complete path of python.exe can be added by:\n",
    "1.Right-clicking This PC and going to Properties.\n",
    "2.Clicking on the Advanced system settings in the menu on the left.\n",
    "3.Clicking on the Environment Variables button on the bottom right.\n",
    "4.In the System variables section, selecting the Path variable and clicking on Edit. The next screen will show all the directories that are currently a part of the PATH variable.\n",
    "5.Clicking on New and entering Python’s install directory. \"\"\")"
   ]
  },
  {
   "cell_type": "code",
   "execution_count": 33,
   "id": "f66999c7-c146-4b77-a01c-d54150d73b73",
   "metadata": {},
   "outputs": [],
   "source": [
    "# 16. Is indentation required in python"
   ]
  },
  {
   "cell_type": "code",
   "execution_count": 34,
   "id": "12f8a078-4f21-4e6b-bb86-6f31125feeb9",
   "metadata": {},
   "outputs": [
    {
     "name": "stdout",
     "output_type": "stream",
     "text": [
      "Indentation refers to the spaces at the beginning of a code line.\n",
      "Where in other programming languages the indentation in code is for readability only, the indentation in Python is very important.\n"
     ]
    }
   ],
   "source": [
    "print(\"\"\"Indentation refers to the spaces at the beginning of a code line.\n",
    "Where in other programming languages the indentation in code is for readability only, the indentation in Python is very important.\"\"\")"
   ]
  }
 ],
 "metadata": {
  "kernelspec": {
   "display_name": "Python 3 (ipykernel)",
   "language": "python",
   "name": "python3"
  },
  "language_info": {
   "codemirror_mode": {
    "name": "ipython",
    "version": 3
   },
   "file_extension": ".py",
   "mimetype": "text/x-python",
   "name": "python",
   "nbconvert_exporter": "python",
   "pygments_lexer": "ipython3",
   "version": "3.10.8"
  }
 },
 "nbformat": 4,
 "nbformat_minor": 5
}
