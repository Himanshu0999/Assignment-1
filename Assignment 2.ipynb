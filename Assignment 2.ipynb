{
 "cells": [
  {
   "cell_type": "code",
   "execution_count": 1,
   "id": "bdcbb494-110e-4dd8-aee1-8631c83dcf8d",
   "metadata": {},
   "outputs": [],
   "source": [
    "# ASSIGNMENT 2"
   ]
  },
  {
   "cell_type": "code",
   "execution_count": 2,
   "id": "c38dde2e-7841-4fc4-b325-4293e745b182",
   "metadata": {},
   "outputs": [],
   "source": [
    "# 1. Write a Program to accept Percentage from the user and display the grade according to the following criteria:"
   ]
  },
  {
   "cell_type": "code",
   "execution_count": 4,
   "id": "fbaf28a7-45be-4192-8d80-9cf1b6f60b90",
   "metadata": {
    "tags": []
   },
   "outputs": [
    {
     "name": "stdin",
     "output_type": "stream",
     "text": [
      "Enter the percentage of Marks :- 75\n"
     ]
    },
    {
     "name": "stdout",
     "output_type": "stream",
     "text": [
      "The Student Percentage are :- 75.0% and Grade are :- C\n"
     ]
    }
   ],
   "source": [
    "per=float(input(\"Enter the percentage of Marks :-\"))\n",
    "if  per >= 90:\n",
    "            print(\"The Student Percentage are :- {}% and Grade are :- A\".format(per))\n",
    "elif per>80 and per<=90:\n",
    "            print(\"The Student Percentage are :- {}% and Grade are :- B\".format(per))\n",
    "elif per>=60 and per<=80:\n",
    "            print(\"The Student Percentage are :- {}% and Grade are :- C\".format(per))\n",
    "elif per < 60:\n",
    "            print(\"The Student Percentage are :- {}% and Grade are :- D\".format(per))\n",
    "else:\n",
    "            print(\"you can't have more than 100 Percentage\")"
   ]
  },
  {
   "cell_type": "code",
   "execution_count": 5,
   "id": "66479a8f-6943-4ba5-aacd-dd80567092cf",
   "metadata": {},
   "outputs": [],
   "source": [
    "# 2. Write a Program to accept the cost price of a bike and display the road tax to be paid according to the following criteria:"
   ]
  },
  {
   "cell_type": "code",
   "execution_count": 6,
   "id": "8e5c560e-f9b7-4652-8e9f-4b1ebd993a98",
   "metadata": {},
   "outputs": [
    {
     "name": "stdin",
     "output_type": "stream",
     "text": [
      "Enter the Cost Price pf a Bike Rs.:- 80000\n"
     ]
    },
    {
     "name": "stdout",
     "output_type": "stream",
     "text": [
      "The Showroom Price Rs.- 80000.0 and Road Tax Rs.- 8000.0 and Total on Road Price are Rs.- 88000.0  \n"
     ]
    }
   ],
   "source": [
    "cost_price=float(input(\"Enter the Cost Price pf a Bike Rs.:-\"))\n",
    "if cost_price>100000:\n",
    "    tax=(cost_price*15)/100\n",
    "    print(\"The Showroom Price Rs.- {} and Road Tax Rs.- {} and Total on Road Price are Rs.- {}  \".format(cost_price,tax,cost_price+tax)) \n",
    "elif cost_price>50000 and cost_price<=100000:\n",
    "    tax=(cost_price*10)/100\n",
    "    print(\"The Showroom Price Rs.- {} and Road Tax Rs.- {} and Total on Road Price are Rs.- {}  \".format(cost_price,tax,cost_price+tax))\n",
    "elif cost_price<=50000:\n",
    "    tax=(cost_price*5)/100\n",
    "    print(\"The Showroom Price Rs.- {} and Road Tax Rs.- {} and Total on Road price are Rs.- {} \".format(cost_price,tax,cost_price+tax))\n",
    "    "
   ]
  },
  {
   "cell_type": "code",
   "execution_count": 7,
   "id": "05e4404b-c2db-4f26-b9f0-b1e50e3c75eb",
   "metadata": {},
   "outputs": [],
   "source": [
    "# 3. Accept any city from the user and display Monuments that city."
   ]
  },
  {
   "cell_type": "code",
   "execution_count": 8,
   "id": "bc7a38e5-df2e-4495-bb36-8193e32c8687",
   "metadata": {},
   "outputs": [
    {
     "name": "stdin",
     "output_type": "stream",
     "text": [
      "Enter the (Delhi,Agra,Jaipur) City Name :- Delhi\n"
     ]
    },
    {
     "name": "stdout",
     "output_type": "stream",
     "text": [
      "Monuments city are Red Fort\n"
     ]
    }
   ],
   "source": [
    "Dic ={'Delhi':\"Red Fort\" ,'Agra':\"Taj Mahal\",'Jaipur':\"Hawa Mahal \"}\n",
    "City=str(input(\"Enter the (Delhi,Agra,Jaipur) City Name :-\")) \n",
    "a = Dic[City]\n",
    "print(\"Monuments city are {}\".format(a))"
   ]
  },
  {
   "cell_type": "code",
   "execution_count": 14,
   "id": "f5796b7a-37e6-4b94-9df5-92acdfa6e4c2",
   "metadata": {},
   "outputs": [],
   "source": [
    "# 4. Check how many times a given Number given can be a divided by 3 before it is less than or equal to 10."
   ]
  },
  {
   "cell_type": "code",
   "execution_count": 9,
   "id": "9e8e155a-b696-440c-a74f-dd6bb0b3dd7f",
   "metadata": {},
   "outputs": [
    {
     "name": "stdout",
     "output_type": "stream",
     "text": [
      "3 6 9 "
     ]
    }
   ],
   "source": [
    "lst = [1,2,3,4,5,6,7,8,9,10,11,12,13,14,15,16,17,18,19,20,21,22,23,24,25]\n",
    "for i in lst:\n",
    "    if i % 3== 0 and i<=10:\n",
    "        print(i, end=\" \")\n",
    "        "
   ]
  },
  {
   "cell_type": "code",
   "execution_count": 15,
   "id": "31a3abd1-5860-496d-a78e-8eca329962a4",
   "metadata": {},
   "outputs": [],
   "source": [
    "# 5. Why and When to use while loop in python given a detailed description with example"
   ]
  },
  {
   "cell_type": "code",
   "execution_count": 16,
   "id": "a4dfbd29-790c-41cb-8963-971d4f8528bf",
   "metadata": {},
   "outputs": [
    {
     "name": "stdout",
     "output_type": "stream",
     "text": [
      "Python While Loop is used to execute a block of statements repeatedly until a given condition is satisfied. And when the condition becomes false, the line immediately after the loop in the program is executed.\n",
      "Syntax: \n",
      "while expression:\n",
      "    statement(s)\n",
      "* There are Three  Types of Loops in Python\n",
      "1.while loop\n",
      "2.for loop\n",
      "3.nested loop\n",
      "* There are Three type Loop Control statements in Python\n",
      "1.break statement\n",
      "2.continue statement\n",
      "3.pass statement\n"
     ]
    }
   ],
   "source": [
    "print(\"\"\"Python While Loop is used to execute a block of statements repeatedly until a given condition is satisfied. And when the condition becomes false, the line immediately after the loop in the program is executed.\n",
    "Syntax: \n",
    "while expression:\n",
    "    statement(s)\n",
    "* There are Three  Types of Loops in Python\n",
    "1.while loop\n",
    "2.for loop\n",
    "3.nested loop\n",
    "* There are Three type Loop Control statements in Python\n",
    "1.break statement\n",
    "2.continue statement\n",
    "3.pass statement\"\"\")"
   ]
  },
  {
   "cell_type": "code",
   "execution_count": 17,
   "id": "d49bcbd1-9cfb-4cdf-a636-8562625749f3",
   "metadata": {},
   "outputs": [],
   "source": [
    "#  6. Use nested while loop to print 3 different patterns"
   ]
  },
  {
   "cell_type": "code",
   "execution_count": 19,
   "id": "952dfad3-cb5b-4c03-8148-ccdbe88dbc0d",
   "metadata": {},
   "outputs": [
    {
     "name": "stdout",
     "output_type": "stream",
     "text": [
      "*  \n",
      "* *  \n",
      "* * *  \n",
      "* * * *  \n",
      "* * * * *  \n",
      "* * * * * *  \n"
     ]
    }
   ],
   "source": [
    "i=0\n",
    "while i<=5:\n",
    "    j=1\n",
    "    while j<=i+1:\n",
    "        print(\"*\",end=\" \")\n",
    "        j=j+1\n",
    "    print(\" \")\n",
    "    i=i+1    "
   ]
  },
  {
   "cell_type": "code",
   "execution_count": 13,
   "id": "8127fc4e-832f-45c5-bff1-a50d98324e61",
   "metadata": {},
   "outputs": [
    {
     "name": "stdout",
     "output_type": "stream",
     "text": [
      "+ * * * * * +\n",
      "+ * * * * * +\n",
      "+ * * * * * +\n",
      "+ * * * * * +\n",
      "+ * * * * * +\n"
     ]
    }
   ],
   "source": [
    "k=0\n",
    "r=5\n",
    "i=1\n",
    "while i<=r:\n",
    "    j=1\n",
    "    while j<=(r-i)+1:\n",
    "        print(\"+ \",end=\"\")\n",
    "        j=j+1\n",
    "        if k!=(2*i-1):\n",
    "            print(\"* * * * *\",end=\" \")\n",
    "            k=k+1\n",
    "        print(\"+\")\n",
    "        i=i+1\n",
    "        "
   ]
  },
  {
   "cell_type": "code",
   "execution_count": 28,
   "id": "c649cecc-fee8-43e8-978b-201cd1a3294e",
   "metadata": {},
   "outputs": [
    {
     "name": "stdout",
     "output_type": "stream",
     "text": [
      "* * * * *\n",
      "* * * *\n",
      "* * *\n",
      "* *\n",
      "*\n"
     ]
    }
   ],
   "source": [
    "i=1\n",
    "n=5\n",
    "while i<=n:\n",
    "    j=5\n",
    "    while j>=i+1:\n",
    "        print(\"*\",end=\" \")\n",
    "        j=j-1\n",
    "    print(\"*\")\n",
    "    i=i+1"
   ]
  },
  {
   "cell_type": "code",
   "execution_count": 37,
   "id": "a187feb0-5899-47ab-b980-55a5bbf5e728",
   "metadata": {},
   "outputs": [],
   "source": [
    "# 7. Reverse a while loop to Display number form 10 to 1."
   ]
  },
  {
   "cell_type": "code",
   "execution_count": 38,
   "id": "913fe280-4cee-4632-b681-29165fe1a372",
   "metadata": {},
   "outputs": [
    {
     "name": "stdout",
     "output_type": "stream",
     "text": [
      "10\n",
      "9\n",
      "8\n",
      "7\n",
      "6\n",
      "5\n",
      "4\n",
      "3\n",
      "2\n",
      "1\n"
     ]
    }
   ],
   "source": [
    "i=10\n",
    "while i>0:\n",
    "    print(i)\n",
    "    i=i-1"
   ]
  },
  {
   "cell_type": "code",
   "execution_count": 39,
   "id": "93d9fbb5-5446-4007-b1ff-c8bb8324d37e",
   "metadata": {},
   "outputs": [],
   "source": [
    "# 8. Reverse a while loop to Display number form -10 to -1."
   ]
  },
  {
   "cell_type": "code",
   "execution_count": 40,
   "id": "54c609cb-1e09-42f7-8ad3-ed9aa788f17c",
   "metadata": {},
   "outputs": [
    {
     "name": "stdout",
     "output_type": "stream",
     "text": [
      "-10\n",
      "-9\n",
      "-8\n",
      "-7\n",
      "-6\n",
      "-5\n",
      "-4\n",
      "-3\n",
      "-2\n",
      "-1\n"
     ]
    }
   ],
   "source": [
    "i=-10\n",
    "while i<=-1:\n",
    "    print(i)\n",
    "    i=i+1"
   ]
  }
 ],
 "metadata": {
  "kernelspec": {
   "display_name": "Python 3 (ipykernel)",
   "language": "python",
   "name": "python3"
  },
  "language_info": {
   "codemirror_mode": {
    "name": "ipython",
    "version": 3
   },
   "file_extension": ".py",
   "mimetype": "text/x-python",
   "name": "python",
   "nbconvert_exporter": "python",
   "pygments_lexer": "ipython3",
   "version": "3.10.8"
  }
 },
 "nbformat": 4,
 "nbformat_minor": 5
}
