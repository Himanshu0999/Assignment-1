{
 "cells": [
  {
   "cell_type": "code",
   "execution_count": 16,
   "id": "c6b3712d-5ca5-41dc-b42a-32897f1dd691",
   "metadata": {},
   "outputs": [],
   "source": [
    "# Assignment "
   ]
  },
  {
   "cell_type": "code",
   "execution_count": 17,
   "id": "7c01d93c-a5d0-4e78-8c1a-e488f224eb19",
   "metadata": {},
   "outputs": [
    {
     "data": {
      "text/plain": [
       "' 1. Which keyword is used to create a function? Create a function to return a list of odd numbers in the \\nrange of 1 to 25.'"
      ]
     },
     "execution_count": 17,
     "metadata": {},
     "output_type": "execute_result"
    }
   ],
   "source": [
    "\"\"\" 1. Which keyword is used to create a function? Create a function to return a list of odd numbers in the \n",
    "range of 1 to 25.\"\"\""
   ]
  },
  {
   "cell_type": "code",
   "execution_count": 18,
   "id": "52224afa-1af8-410b-a70c-6073db200663",
   "metadata": {},
   "outputs": [
    {
     "data": {
      "text/plain": [
       "'The def keyword is used to create, (or define) a function.\\nExample:-\\nCreate and execute a function:\\ndef my_function():\\n  print(\"Hello from a function\")\\nmy_function()'"
      ]
     },
     "execution_count": 18,
     "metadata": {},
     "output_type": "execute_result"
    }
   ],
   "source": [
    "\"\"\"The def keyword is used to create, (or define) a function.\n",
    "Example:-\n",
    "Create and execute a function:\n",
    "def my_function():\n",
    "  print(\"Hello from a function\")\n",
    "my_function()\"\"\""
   ]
  },
  {
   "cell_type": "code",
   "execution_count": 19,
   "id": "424edc92-1c6b-49ef-b33e-257f31216aa5",
   "metadata": {},
   "outputs": [],
   "source": [
    "def odd():\n",
    "    \n",
    "    lst = [1,2,3,4,5,6,7,8,9,10,11,12,13,14,15,16,17,18,19,20,21,22,23,24,25]\n",
    "    for i in lst:\n",
    "        if i % 2 == 0:\n",
    "            pass\n",
    "        else:\n",
    "            print(i, end=\" \")\n",
    "        "
   ]
  },
  {
   "cell_type": "code",
   "execution_count": 20,
   "id": "3f165c26-9567-4576-9c51-474e89b7b78b",
   "metadata": {
    "tags": []
   },
   "outputs": [
    {
     "name": "stdout",
     "output_type": "stream",
     "text": [
      "1 3 5 7 9 11 13 15 17 19 21 23 25 "
     ]
    }
   ],
   "source": [
    "odd()"
   ]
  },
  {
   "cell_type": "code",
   "execution_count": 21,
   "id": "5cd72107-e119-4d80-b055-6b0e00db50f5",
   "metadata": {},
   "outputs": [
    {
     "data": {
      "text/plain": [
       "'# 2.Why *args and **kwargs is used in some functions? Create a function each for *args and **kwargs \\nto demonstrate their use.'"
      ]
     },
     "execution_count": 21,
     "metadata": {},
     "output_type": "execute_result"
    }
   ],
   "source": [
    "\"\"\"# 2.Why *args and **kwargs is used in some functions? Create a function each for *args and **kwargs \n",
    "to demonstrate their use.\"\"\""
   ]
  },
  {
   "cell_type": "code",
   "execution_count": 22,
   "id": "7c68a663-d3f8-46cb-906c-a4681c70a1eb",
   "metadata": {},
   "outputs": [
    {
     "name": "stdout",
     "output_type": "stream",
     "text": [
      "\n",
      "*args=The special syntax *args in function definitions in python is used to pass a variable number of arguments to a function. It is used to pass a non-key worded, variable-length argument list\n",
      "example:- \n",
      "def add(*numbers):\n",
      "    total = 0\n",
      "    for num in numbers:\n",
      "        total += num\n",
      "    return total\n",
      "print(add(2, 3))\n",
      "print(add(2, 3, 5)).\n",
      "**kwargs=The special syntax **kwargs in function definitions in python is used to pass a keyworded, variable-length argument list. We use the name kwargs with the double star. The reason is that the double star allows us to pass through keyword arguments (and any number of them).\n",
      "example:-\n",
      "def total_fruits(**fruits):\n",
      "    total = 0\n",
      "    for amount in fruits.values():\n",
      "        total += amount\n",
      "    return total\n",
      "print(total_fruits(banana=5, mango=7, apple=8))\n"
     ]
    }
   ],
   "source": [
    "print(\"\"\"\n",
    "*args=The special syntax *args in function definitions in python is used to pass a variable number of arguments to a function. It is used to pass a non-key worded, variable-length argument list\n",
    "example:- \n",
    "def add(*numbers):\n",
    "    total = 0\n",
    "    for num in numbers:\n",
    "        total += num\n",
    "    return total\n",
    "print(add(2, 3))\n",
    "print(add(2, 3, 5)).\n",
    "**kwargs=The special syntax **kwargs in function definitions in python is used to pass a keyworded, variable-length argument list. We use the name kwargs with the double star. The reason is that the double star allows us to pass through keyword arguments (and any number of them).\n",
    "example:-\n",
    "def total_fruits(**fruits):\n",
    "    total = 0\n",
    "    for amount in fruits.values():\n",
    "        total += amount\n",
    "    return total\n",
    "print(total_fruits(banana=5, mango=7, apple=8))\"\"\")"
   ]
  },
  {
   "cell_type": "code",
   "execution_count": 23,
   "id": "2b2374e1-4533-46d4-8362-0f6b0bcf6152",
   "metadata": {},
   "outputs": [
    {
     "data": {
      "text/plain": [
       "'# 3.What is an iterator in python? Name the method used to initialise the iterator object and the method \\nused for iteration. Use these methods to print the first five elements of the given list [2, 4, 6, 8, 10, 12, 14, \\n16, 18, 20].'"
      ]
     },
     "execution_count": 23,
     "metadata": {},
     "output_type": "execute_result"
    }
   ],
   "source": [
    "\"\"\"# 3.What is an iterator in python? Name the method used to initialise the iterator object and the method \n",
    "used for iteration. Use these methods to print the first five elements of the given list [2, 4, 6, 8, 10, 12, 14, \n",
    "16, 18, 20].\"\"\""
   ]
  },
  {
   "cell_type": "code",
   "execution_count": 24,
   "id": "14eca4e8-e913-4166-acd3-4e6dc63d27d6",
   "metadata": {},
   "outputs": [
    {
     "name": "stdout",
     "output_type": "stream",
     "text": [
      "Python Iterators\n",
      "An iterator is an object that contains a countable number of values.\n",
      "An iterator is an object that can be iterated upon, meaning that you can traverse through all the values.\n"
     ]
    }
   ],
   "source": [
    "print(\"\"\"Python Iterators\n",
    "An iterator is an object that contains a countable number of values.\n",
    "An iterator is an object that can be iterated upon, meaning that you can traverse through all the values.\"\"\")"
   ]
  },
  {
   "cell_type": "code",
   "execution_count": 25,
   "id": "84940157-baa6-4059-8d56-7f373f4eab33",
   "metadata": {},
   "outputs": [
    {
     "name": "stdout",
     "output_type": "stream",
     "text": [
      "2\n",
      "4\n",
      "6\n",
      "8\n",
      "10\n"
     ]
    }
   ],
   "source": [
    "# define a list\n",
    "my_list = [2, 4, 6, 8, 10, 12, 14, \n",
    "16, 18, 20]\n",
    "# create an iterator from the list\n",
    "iterator = iter(my_list)\n",
    "print(next(iterator))  \n",
    "print(next(iterator))  \n",
    "print(next(iterator))\n",
    "print(next(iterator))\n",
    "print(next(iterator)) "
   ]
  },
  {
   "cell_type": "code",
   "execution_count": 26,
   "id": "184c0722-50a8-4dfc-b189-076acf09650a",
   "metadata": {},
   "outputs": [
    {
     "data": {
      "text/plain": [
       "'# 4.What is a generator function in python? Why yield keyword is used? Give an example of a generator \\nfunction.'"
      ]
     },
     "execution_count": 26,
     "metadata": {},
     "output_type": "execute_result"
    }
   ],
   "source": [
    "\"\"\"# 4.What is a generator function in python? Why yield keyword is used? Give an example of a generator \n",
    "function.\"\"\""
   ]
  },
  {
   "cell_type": "code",
   "execution_count": 27,
   "id": "20af57a1-d63e-4c22-baed-235134834da0",
   "metadata": {},
   "outputs": [
    {
     "name": "stdout",
     "output_type": "stream",
     "text": [
      "Similar to defining a normal function, we can define a generator function using the def keyword, but instead of the return statement we use the yield statement.\n",
      "example:-\n",
      "def generator_name(arg):\n",
      "    # statements\n",
      "    yield something\n",
      "Here, the yield keyword is used to produce a value from the generator.\n",
      "When the generator function is called, it does not execute the function body immediately. Instead, it returns a generator object that can be iterated over to produce the values.\n"
     ]
    }
   ],
   "source": [
    "print(\"\"\"Similar to defining a normal function, we can define a generator function using the def keyword, but instead of the return statement we use the yield statement.\n",
    "example:-\n",
    "def generator_name(arg):\n",
    "    # statements\n",
    "    yield something\n",
    "Here, the yield keyword is used to produce a value from the generator.\n",
    "When the generator function is called, it does not execute the function body immediately. Instead, it returns a generator object that can be iterated over to produce the values.\"\"\")"
   ]
  },
  {
   "cell_type": "code",
   "execution_count": 28,
   "id": "c6337d3d-06cf-4858-a66a-0aee90060bf9",
   "metadata": {},
   "outputs": [],
   "source": [
    "def prime(n):\n",
    "    for num in range(0,n):\n",
    "        if num>1:\n",
    "            for i in range(2,num):\n",
    "                if(num%i)==0:\n",
    "                    break\n",
    "            else:\n",
    "                yield num "
   ]
  },
  {
   "cell_type": "code",
   "execution_count": 29,
   "id": "079b6e1c-3b8a-411d-b667-ff9571d89b90",
   "metadata": {},
   "outputs": [
    {
     "name": "stdout",
     "output_type": "stream",
     "text": [
      "2\n",
      "3\n",
      "5\n",
      "7\n",
      "11\n",
      "13\n",
      "17\n",
      "19\n"
     ]
    }
   ],
   "source": [
    "for i in prime(20):\n",
    "    print(i)"
   ]
  },
  {
   "cell_type": "code",
   "execution_count": 30,
   "id": "5d87cc9d-8739-4977-8dc1-3ca996fb6531",
   "metadata": {},
   "outputs": [
    {
     "data": {
      "text/plain": [
       "' 5. Create a generator function for prime numbers less than 1000. Use the next() method to print the \\nfirst 20 prime numbers.'"
      ]
     },
     "execution_count": 30,
     "metadata": {},
     "output_type": "execute_result"
    }
   ],
   "source": [
    "\"\"\" 5. Create a generator function for prime numbers less than 1000. Use the next() method to print the \n",
    "first 20 prime numbers.\"\"\""
   ]
  },
  {
   "cell_type": "code",
   "execution_count": 31,
   "id": "02d896f8-9afb-4b02-8cfa-02b6de597621",
   "metadata": {},
   "outputs": [],
   "source": [
    "def prime(n):\n",
    "    for num in range(0,n):\n",
    "        if num>1:\n",
    "            for i in range(2,num):\n",
    "                if(num%i)==0:\n",
    "                    break\n",
    "            else:\n",
    "                yield num "
   ]
  },
  {
   "cell_type": "code",
   "execution_count": 32,
   "id": "92322c0b-318b-4721-8c8b-41b12587425f",
   "metadata": {},
   "outputs": [
    {
     "name": "stdout",
     "output_type": "stream",
     "text": [
      "2\n",
      "3\n",
      "5\n",
      "7\n",
      "11\n",
      "13\n",
      "17\n",
      "19\n"
     ]
    }
   ],
   "source": [
    "for i in prime(20):\n",
    "    print(i)"
   ]
  },
  {
   "cell_type": "code",
   "execution_count": 33,
   "id": "48cfc616-ecad-41aa-bbdb-2a8beac2a116",
   "metadata": {},
   "outputs": [
    {
     "data": {
      "text/plain": [
       "' 6. Write a python program to print the first 10 Fibonacci numbers using a while loop.'"
      ]
     },
     "execution_count": 33,
     "metadata": {},
     "output_type": "execute_result"
    }
   ],
   "source": [
    "\"\"\" 6. Write a python program to print the first 10 Fibonacci numbers using a while loop.\"\"\""
   ]
  },
  {
   "cell_type": "code",
   "execution_count": 3,
   "id": "bf068e2c-9b01-4e4b-b966-261787fae978",
   "metadata": {},
   "outputs": [
    {
     "name": "stdin",
     "output_type": "stream",
     "text": [
      "enter number of element 10\n"
     ]
    },
    {
     "name": "stdout",
     "output_type": "stream",
     "text": [
      "0\n",
      "1\n",
      "1\n",
      "2\n",
      "3\n",
      "5\n",
      "8\n",
      "13\n",
      "21\n",
      "34\n",
      "55\n"
     ]
    }
   ],
   "source": [
    "number=int(input(\"enter number of element\"))\n",
    "a,b=0,1\n",
    "counter=0\n",
    "while counter <= number :\n",
    "    print(a)\n",
    "    c=a+b\n",
    "    a=b\n",
    "    b=c\n",
    "    counter = counter + 1\n"
   ]
  },
  {
   "cell_type": "code",
   "execution_count": 34,
   "id": "988f2bce-e7b1-4398-8648-9f105e1c7af8",
   "metadata": {},
   "outputs": [
    {
     "data": {
      "text/plain": [
       "\" 7. Write a List Comprehension to iterate through the given string: ‘pwskills’.\\n\\nExpected output: ['p', 'w', 's', 'k', 'i', 'l', 'l', 's']\""
      ]
     },
     "execution_count": 34,
     "metadata": {},
     "output_type": "execute_result"
    }
   ],
   "source": [
    "\"\"\" 7. Write a List Comprehension to iterate through the given string: ‘pwskills’.\n",
    "\n",
    "Expected output: ['p', 'w', 's', 'k', 'i', 'l', 'l', 's']\"\"\""
   ]
  },
  {
   "cell_type": "code",
   "execution_count": 35,
   "id": "ac006c26-cb85-4e2c-adf5-62df9695197f",
   "metadata": {},
   "outputs": [
    {
     "name": "stdout",
     "output_type": "stream",
     "text": [
      "['p', 'w', 's', 'k', 'i', 'l', 'l', 's']\n"
     ]
    }
   ],
   "source": [
    "l=\"pwskills\"\n",
    "List = [character for character in l]\n",
    "print(List)"
   ]
  },
  {
   "cell_type": "code",
   "execution_count": 1,
   "id": "d8feead2-ca73-469b-880a-0f06f0800c73",
   "metadata": {},
   "outputs": [
    {
     "data": {
      "text/plain": [
       "' 8. Write a python program to check whether a given number is Palindrome or not using a while loop.'"
      ]
     },
     "execution_count": 1,
     "metadata": {},
     "output_type": "execute_result"
    }
   ],
   "source": [
    "\"\"\" 8. Write a python program to check whether a given number is Palindrome or not using a while loop.\"\"\""
   ]
  },
  {
   "cell_type": "code",
   "execution_count": 1,
   "id": "e974739c-906e-4880-a00c-ac5a7a83972a",
   "metadata": {},
   "outputs": [
    {
     "name": "stdin",
     "output_type": "stream",
     "text": [
      "Enter any number :  5\n"
     ]
    },
    {
     "name": "stdout",
     "output_type": "stream",
     "text": [
      "The given number is PALINDROME\n"
     ]
    }
   ],
   "source": [
    "num = input('Enter any number : ')\n",
    "try:\n",
    "    val = int(num)\n",
    "    if num == str(num)[::-1]:\n",
    "        print('The given number is PALINDROME')\n",
    "    else:\n",
    "        print('The given number is NOT a palindrome')\n",
    "except ValueError:\n",
    "    \n",
    "    print(\"That's not a valid number, Try Again !\")"
   ]
  },
  {
   "cell_type": "code",
   "execution_count": 5,
   "id": "f17617ef-ecd6-45e2-b52c-cf8e5f7b5208",
   "metadata": {},
   "outputs": [
    {
     "name": "stdin",
     "output_type": "stream",
     "text": [
      "Enter string :  b\n"
     ]
    },
    {
     "name": "stdout",
     "output_type": "stream",
     "text": [
      "b is a Palindrome.\n"
     ]
    }
   ],
   "source": [
    "def SPalindrome(x):\n",
    "    if (x == x[::-1]):\n",
    "        return True\n",
    "    else:\n",
    "        return False\n",
    "input1 = input('Enter string : ')\n",
    "result = SPalindrome(input1)\n",
    "if(result):\n",
    "    print(input1, 'is a Palindrome.')\n",
    "else:\n",
    "    print(input1, 'is not a Palindrome.')"
   ]
  },
  {
   "cell_type": "code",
   "execution_count": 36,
   "id": "4f858ccf-86e8-4efb-a8c5-1176d4e45c0b",
   "metadata": {},
   "outputs": [
    {
     "data": {
      "text/plain": [
       "' 9. Write a code to print odd numbers from 1 to 100 using list comprehension.'"
      ]
     },
     "execution_count": 36,
     "metadata": {},
     "output_type": "execute_result"
    }
   ],
   "source": [
    "\"\"\" 9. Write a code to print odd numbers from 1 to 100 using list comprehension.\"\"\" "
   ]
  },
  {
   "cell_type": "code",
   "execution_count": 37,
   "id": "06a5a827-5b1e-48b5-a57d-e8b403ed61d7",
   "metadata": {},
   "outputs": [
    {
     "name": "stdout",
     "output_type": "stream",
     "text": [
      "[1, 3, 5, 7, 9, 11, 13, 15, 17, 19, 21, 23, 25, 27, 29, 31, 33, 35, 37, 39, 41, 43, 45, 47, 49, 51, 53, 55, 57, 59, 61, 63, 65, 67, 69, 71, 73, 75, 77, 79, 81, 83, 85, 87, 89, 91, 93, 95, 97, 99]\n"
     ]
    }
   ],
   "source": [
    "odd_list = [element for element in range(1, 101) if element % 2 == 1 ]\n",
    "print(odd_list)"
   ]
  }
 ],
 "metadata": {
  "kernelspec": {
   "display_name": "Python 3 (ipykernel)",
   "language": "python",
   "name": "python3"
  },
  "language_info": {
   "codemirror_mode": {
    "name": "ipython",
    "version": 3
   },
   "file_extension": ".py",
   "mimetype": "text/x-python",
   "name": "python",
   "nbconvert_exporter": "python",
   "pygments_lexer": "ipython3",
   "version": "3.10.8"
  }
 },
 "nbformat": 4,
 "nbformat_minor": 5
}
